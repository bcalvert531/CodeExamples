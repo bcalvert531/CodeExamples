{
 "cells": [
  {
   "cell_type": "markdown",
   "metadata": {},
   "source": [
    "# Sornette's Log Periodic Power Law Singularity Model\n",
    "\n",
    "An entirely cannonical implementation of the LPPLS model of bubbles in financial markets and other complex adaptive systems. Largely following the excellent dissertation Information Geometry and the Dynamic Detection of Financial Bubbles & Crashes - Demos [2017]."
   ]
  },
  {
   "cell_type": "code",
   "execution_count": 1,
   "metadata": {},
   "outputs": [],
   "source": [
    "import numpy as np\n",
    "import pandas as pd\n",
    "import scipy\n",
    "from scipy.optimize import minimize\n",
    "from scipy import linalg\n",
    "import yfinance as yf\n",
    "import random\n",
    "import matplotlib.pyplot as plt\n",
    "import timeit"
   ]
  },
  {
   "cell_type": "code",
   "execution_count": 2,
   "metadata": {},
   "outputs": [
    {
     "name": "stdout",
     "output_type": "stream",
     "text": [
      "[*********************100%***********************]  1 of 1 completed\n"
     ]
    }
   ],
   "source": [
    "spy = yf.download('SPY', period='max')"
   ]
  },
  {
   "cell_type": "code",
   "execution_count": 4,
   "metadata": {},
   "outputs": [
    {
     "data": {
      "text/plain": [
       "<matplotlib.axes._subplots.AxesSubplot at 0x2054ca5dc88>"
      ]
     },
     "execution_count": 4,
     "metadata": {},
     "output_type": "execute_result"
    },
    {
     "data": {
      "image/png": "[encoded data removed]",
      "text/plain": [
       "<Figure size 432x288 with 1 Axes>"
      ]
     },
     "metadata": {
      "needs_background": "light"
     },
     "output_type": "display_data"
    }
   ],
   "source": [
    "%matplotlib inline\n",
    "spy['Adj Close'].plot()"
   ]
  },
  {
   "cell_type": "code",
   "execution_count": 5,
   "metadata": {},
   "outputs": [],
   "source": [
    "df = spy.loc['2003-01-01':'2009-01-01', 'Adj Close']"
   ]
  },
  {
   "cell_type": "code",
   "execution_count": 6,
   "metadata": {},
   "outputs": [],
   "source": [
    "class LPPL:\n",
    "    \n",
    "    def __init__(self, timeseries):\n",
    "        self.data = np.array(timeseries)\n",
    "        self.ordinal = np.array(range(len(timeseries)))\n",
    "        self.n = len(self.ordinal)\n",
    "        \n",
    "    def lppl(self, tc, m, w, a, b, c1, c2):\n",
    "        return a + np.power(tc - self.ordinal, m) * (b + ((c1 * np.cos(w * np.log(tc - self.ordinal))) + (c2 * np.sin(w * np.log(tc - self.ordinal)))))\n",
    "    \n",
    "    \n",
    "    def linear(self, tc, m, w):\n",
    "        \n",
    "        # helper functions\n",
    "        def _y(): return np.log(self.data)\n",
    "        def _f(): return np.power(tc - self.ordinal, m)\n",
    "        def _g(): return np.power(tc - self.ordinal, m) * np.cos(w * np.log(tc - self.ordinal))\n",
    "        def _h(): return np.power(tc - self.ordinal, m) * np.sin(w * np.log(tc - self.ordinal))\n",
    "        \n",
    "        n = self.n\n",
    "        y = np.sum(_y())\n",
    "        f = np.sum(_f())\n",
    "        g = np.sum(_g())\n",
    "        h = np.sum(_h())\n",
    "        ff = np.sum(_f() ** 2)\n",
    "        fg = np.sum(_f() * _g())\n",
    "        fh = np.sum(_f() * _h())\n",
    "        gg = np.sum(_g() * _g())\n",
    "        gh = np.sum(_g() * _h())\n",
    "        hh = np.sum(_h() * _h())\n",
    "        yf = np.sum(_y() * _f())\n",
    "        yg = np.sum(_y() * _g())\n",
    "        yh = np.sum(_y() * _h())\n",
    "        \n",
    "        matrix = np.array([\n",
    "            [n, f , g , h ],\n",
    "            [f, ff, fg, fh],\n",
    "            [g, fg, gg, gh],\n",
    "            [h, fh, gh, hh]       \n",
    "        ])\n",
    "        \n",
    "        vector = np.array([\n",
    "            [y],\n",
    "            [yf],\n",
    "            [yg],\n",
    "            [yh]\n",
    "        ])\n",
    "        \n",
    "        \"\"\"\n",
    "        #diagnostics\n",
    "        print('########## my imp ############')\n",
    "        print('ordinal: ', self.ordinal)\n",
    "        print('data: ', self.data)\n",
    "        print('n: ', self.n)\n",
    "        print('f: ', f)\n",
    "        print('g: ', g)\n",
    "        print('h: ', h)\n",
    "        print('ff: ', ff)\n",
    "        print('gg: ', gg)\n",
    "        print('hh: ', hh)\n",
    "        print('fg: ', fg)\n",
    "        print('fh: ', fh)\n",
    "        print('gh: ', gh)\n",
    "        print('y: ', y)\n",
    "        print('yf: ', yf)\n",
    "        print('yg: ', yg)\n",
    "        print('yh: ', yh)\n",
    "        \"\"\"\n",
    "        \n",
    "        product = linalg.solve(matrix, vector) \n",
    "        return [i[0] for i in product]\n",
    "        \n",
    "        \n",
    "    def func(self, x):\n",
    "        tc = x[0]\n",
    "        m = x[1]\n",
    "        w = x[2]\n",
    "        \n",
    "        lins = self.linear(tc, m, w)\n",
    "        a, b, c1, c2 = lins[0], lins[1], lins[2], lins[3]\n",
    "        \n",
    "        delta = np.sum((self.lppl(tc, m, w, a, b, c1, c2) - self.data) ** 2)\n",
    "        return delta\n",
    "    \n",
    "    \n",
    "    def func_restricted(self, x):\n",
    "        tc = x[0]\n",
    "        m  = x[1]\n",
    "        w  = x[2]\n",
    "\n",
    "        lin_vals = self.linear(tc, m, w)\n",
    "\n",
    "        a  = lin_vals[0] \n",
    "        b  = lin_vals[1]\n",
    "        c1 = lin_vals[2] \n",
    "        c2 = lin_vals[3]\n",
    "\n",
    "        delta = self.lppl(tc, m, w, a, b, c1, c2)\n",
    "        delta = np.subtract(delta, self.data)\n",
    "        delta = np.power(delta, 2)\n",
    "        return np.sum(delta)\n",
    "    \n",
    "    \n",
    "    def solve(self):\n",
    "        \n",
    "        bounds = np.array([\n",
    "            (self.n + 1, self.n * 1.5),\n",
    "            (0.1, 0.9),\n",
    "            (6, 13)\n",
    "        ])\n",
    "        \n",
    "        bounds2 = (\n",
    "                [self.n + 1, 0.1, 6],\n",
    "                [self.n * 1.5, 0.9, 13]\n",
    "        )\n",
    "        \n",
    "        non_lins = [random.uniform(a[0], a[1]) for a in bounds]\n",
    "        tc = non_lins[0]\n",
    "        m = non_lins[1]\n",
    "        w = non_lins[2]\n",
    "        seed = np.array([tc, m, w])\n",
    "        print('Seed: ', seed)\n",
    "        \n",
    "        print('Minimizing')\n",
    "        \n",
    "        cofs = minimize(fun=self.func,\n",
    "                        method='SLSQP',\n",
    "                        x0=seed,\n",
    "                        bounds=bounds,\n",
    "                        options={'disp':1}\n",
    "                      )\n",
    "        \"\"\"\n",
    "        cofs = scipy.optimize.least_squares(\n",
    "                        fun=self.func,\n",
    "                        x0=seed,\n",
    "                        jac='2-point',\n",
    "                        bounds=bounds2,\n",
    "                        x_scale='jac'        \n",
    "                    )\n",
    "       \n",
    "        print('Minimized')\n",
    "        \"\"\"\n",
    "        tc = cofs.x[0]\n",
    "        m = cofs.x[1]\n",
    "        w = cofs.x[2]\n",
    "        \n",
    "        lins = self.linear(tc, m, w)\n",
    "        a = lins[0]\n",
    "        b = lins[1]\n",
    "        c1 = lins[2]\n",
    "        c2 = lins[3]\n",
    "        \n",
    "        parameters = [tc, m, w, a, b, c1, c2]\n",
    "        return parameters"
   ]
  },
  {
   "cell_type": "code",
   "execution_count": 7,
   "metadata": {},
   "outputs": [],
   "source": [
    "class LPPL_T1:\n",
    "    \n",
    "    # LPPL with the t1 bubble start value endogenized as a parameter\n",
    "    # as opposed to being the first date in the time series inexorably \n",
    "    \n",
    "    \n",
    "    def __init__(self, timeseries):\n",
    "        self.data = np.array(timeseries)\n",
    "        self.ordinal = np.array(range(len(timeseries)))\n",
    "        self.n = len(self.ordinal)\n",
    "        \n",
    "    def lppl(self, tc, m, w, a, b, c1, c2):\n",
    "        return a + np.power(tc - self.ordinal, m) * (b + ((c1 * np.cos(w * np.log(tc - self.ordinal))) + (c2 * np.sin(w * np.log(tc - self.ordinal)))))\n",
    "    \n",
    "    \n",
    "    def linear(self, tc, m, w):\n",
    "        \n",
    "        # helper functions\n",
    "        def _y(): return np.log(self.data)\n",
    "        def _f(): return np.power(tc - self.ordinal, m)\n",
    "        def _g(): return np.power(tc - self.ordinal, m) * np.cos(w * np.log(tc - self.ordinal))\n",
    "        def _h(): return np.power(tc - self.ordinal, m) * np.sin(w * np.log(tc - self.ordinal))\n",
    "        \n",
    "        n = self.n\n",
    "        y = np.sum(_y())\n",
    "        f = np.sum(_f())\n",
    "        g = np.sum(_g())\n",
    "        h = np.sum(_h())\n",
    "        ff = np.sum(_f() ** 2)\n",
    "        fg = np.sum(_f() * _g())\n",
    "        fh = np.sum(_f() * _h())\n",
    "        gg = np.sum(_g() * _g())\n",
    "        gh = np.sum(_g() * _h())\n",
    "        hh = np.sum(_h() * _h())\n",
    "        yf = np.sum(_y() * _f())\n",
    "        yg = np.sum(_y() * _g())\n",
    "        yh = np.sum(_y() * _h())\n",
    "        \n",
    "        matrix = np.array([\n",
    "            [n, f , g , h ],\n",
    "            [f, ff, fg, fh],\n",
    "            [g, fg, gg, gh],\n",
    "            [h, fh, gh, hh]       \n",
    "        ])\n",
    "        \n",
    "        vector = np.array([\n",
    "            [y],\n",
    "            [yf],\n",
    "            [yg],\n",
    "            [yh]\n",
    "        ])\n",
    "        \n",
    "        \"\"\"\n",
    "        print('########## my imp ############')\n",
    "        print('ordinal: ', self.ordinal)\n",
    "        print('data: ', self.data)\n",
    "        print('n: ', self.n)\n",
    "        print('f: ', f)\n",
    "        print('g: ', g)\n",
    "        print('h: ', h)\n",
    "        print('ff: ', ff)\n",
    "        print('gg: ', gg)\n",
    "        print('hh: ', hh)\n",
    "        print('fg: ', fg)\n",
    "        print('fh: ', fh)\n",
    "        print('gh: ', gh)\n",
    "        print('y: ', y)\n",
    "        print('yf: ', yf)\n",
    "        print('yg: ', yg)\n",
    "        print('yh: ', yh)\n",
    "        \"\"\"\n",
    "        \n",
    "        product = linalg.solve(matrix, vector) \n",
    "        return [i[0] for i in product]\n",
    "        \n",
    "        \n",
    "    def func(self, x):\n",
    "        tc = x[0]\n",
    "        m = x[1]\n",
    "        w = x[2]\n",
    "        \n",
    "        lins = self.linear(tc, m, w)\n",
    "        a, b, c1, c2 = lins[0], lins[1], lins[2], lins[3]\n",
    "        \n",
    "        delta = np.sum((self.lppl(tc, m, w, a, b, c1, c2) - self.data) ** 2)\n",
    "        return delta\n",
    "    \n",
    "    \n",
    "    def func_restricted(self, x):\n",
    "        tc = x[0]\n",
    "        m  = x[1]\n",
    "        w  = x[2]\n",
    "\n",
    "        lin_vals = self.linear(tc, m, w)\n",
    "\n",
    "        a  = lin_vals[0] \n",
    "        b  = lin_vals[1]\n",
    "        c1 = lin_vals[2] \n",
    "        c2 = lin_vals[3]\n",
    "\n",
    "        delta = self.lppl(tc, m, w, a, b, c1, c2)\n",
    "        delta = np.subtract(delta, self.data)\n",
    "        delta = np.power(delta, 2)\n",
    "        return np.sum(delta)\n",
    "    \n",
    "    \n",
    "    def solve(self):\n",
    "        \n",
    "        bounds = np.array([\n",
    "            (self.n + 1, self.n * 1.5),\n",
    "            (0.1, 0.9),\n",
    "            (6, 13)\n",
    "        ])\n",
    "        \n",
    "        bounds2 = (\n",
    "                [self.n + 1, 0.1, 6],\n",
    "                [self.n * 1.5, 0.9, 13]\n",
    "        )\n",
    "        \n",
    "        non_lins = [random.uniform(a[0], a[1]) for a in bounds]\n",
    "        tc = non_lins[0]\n",
    "        m = non_lins[1]\n",
    "        w = non_lins[2]\n",
    "        seed = np.array([tc, m, w])\n",
    "        print('Seed: ', seed)\n",
    "        \n",
    "        print('Minimizing')\n",
    "        \n",
    "        cofs = minimize(fun=self.func,\n",
    "                        method='SLSQP',\n",
    "                        x0=seed,\n",
    "                        bounds=bounds,\n",
    "                        options={'disp':1}\n",
    "                      )\n",
    "        \"\"\"\n",
    "        cofs = scipy.optimize.least_squares(\n",
    "                        fun=self.func,\n",
    "                        x0=seed,\n",
    "                        jac='2-point',\n",
    "                        bounds=bounds2,\n",
    "                        x_scale='jac'        \n",
    "                    )\n",
    "       \n",
    "        print('Minimized')\n",
    "        \"\"\"\n",
    "        tc = cofs.x[0]\n",
    "        m = cofs.x[1]\n",
    "        w = cofs.x[2]\n",
    "        \n",
    "        lins = self.linear(tc, m, w)\n",
    "        a = lins[0]\n",
    "        b = lins[1]\n",
    "        c1 = lins[2]\n",
    "        c2 = lins[3]\n",
    "        \n",
    "        parameters = [tc, m, w, a, b, c1, c2]\n",
    "        return parameters"
   ]
  },
  {
   "cell_type": "code",
   "execution_count": 119,
   "metadata": {},
   "outputs": [],
   "source": [
    "class LPPL_testing:\n",
    "    \n",
    "    # was used to insert parts of code from github implementation for cross-checking units \n",
    "    \n",
    "    def __init__(self, timeseries):\n",
    "        self.data = np.array(timeseries)\n",
    "        self.ordinal = np.array(range(len(timeseries)))\n",
    "        self.n = len(self.ordinal)\n",
    "        \n",
    "    def lppl(self, tc, m, w, a, b, c1, c2):\n",
    "        return a + np.power(tc - self.ordinal, m) * (b + ((c1 * np.cos(w * np.log(tc - self.ordinal))) + (c2 * np.sin(w * np.log(tc - self.ordinal)))))\n",
    "    \n",
    "    \n",
    "    def linear(self, tc, m, w):\n",
    "        \n",
    "        # helper functions\n",
    "        def _y(): return np.log(self.data)\n",
    "        def _f(): return np.power(tc - self.ordinal, m)\n",
    "        def _g(): return np.power(tc - self.ordinal, m) * np.cos(w * np.log(tc - self.ordinal))\n",
    "        def _h(): return np.power(tc - self.ordinal, m) * np.sin(w * np.log(tc - self.ordinal))\n",
    "        \n",
    "        n = self.n\n",
    "        y = np.sum(_y())\n",
    "        f = np.sum(_f())\n",
    "        g = np.sum(_g())\n",
    "        h = np.sum(_h())\n",
    "        ff = np.sum(_f() ** 2)\n",
    "        fg = np.sum(_f() * _g())\n",
    "        fh = np.sum(_f() * _h())\n",
    "        gg = np.sum(_g() * _g())\n",
    "        gh = np.sum(_g() * _h())\n",
    "        hh = np.sum(_h() * _h())\n",
    "        yf = np.sum(_y() * _f())\n",
    "        yg = np.sum(_y() * _g())\n",
    "        yh = np.sum(_y() * _h())\n",
    "        \n",
    "        matrix = np.array([\n",
    "            [n, f , g , h ],\n",
    "            [f, ff, fg, fh],\n",
    "            [g, fg, gg, gh],\n",
    "            [h, fh, gh, hh]       \n",
    "        ])\n",
    "        \n",
    "        vector = np.array([\n",
    "            [y],\n",
    "            [yf],\n",
    "            [yg],\n",
    "            [yh]\n",
    "        ])\n",
    "        \n",
    "        \"\"\"\n",
    "        print('########## my imp ############')\n",
    "        print('ordinal: ', self.ordinal)\n",
    "        print('data: ', self.data)\n",
    "        print('n: ', self.n)\n",
    "        print('f: ', f)\n",
    "        print('g: ', g)\n",
    "        print('h: ', h)\n",
    "        print('ff: ', ff)\n",
    "        print('gg: ', gg)\n",
    "        print('hh: ', hh)\n",
    "        print('fg: ', fg)\n",
    "        print('fh: ', fh)\n",
    "        print('gh: ', gh)\n",
    "        print('y: ', y)\n",
    "        print('yf: ', yf)\n",
    "        print('yg: ', yg)\n",
    "        print('yh: ', yh)\n",
    "        \"\"\"\n",
    "        \n",
    "        product = linalg.solve(matrix, vector) \n",
    "        return [i[0] for i in product]\n",
    "        \n",
    "        \n",
    "    def func(self, x):\n",
    "        tc = x[0]\n",
    "        m = x[1]\n",
    "        w = x[2]\n",
    "        \n",
    "        lins = self.linear(tc, m, w)\n",
    "        a, b, c1, c2 = lins[0], lins[1], lins[2], lins[3]\n",
    "        \n",
    "        delta = np.sum((self.lppl(tc, m, w, a, b, c1, c2) - self.data) ** 2)\n",
    "        return delta\n",
    "    \n",
    "    \n",
    "    def func_restricted(self, x):\n",
    "        tc = x[0]\n",
    "        m  = x[1]\n",
    "        w  = x[2]\n",
    "\n",
    "        lin_vals = self.linear(tc, m, w)\n",
    "\n",
    "        a  = lin_vals[0] \n",
    "        b  = lin_vals[1]\n",
    "        c1 = lin_vals[2] \n",
    "        c2 = lin_vals[3]\n",
    "\n",
    "        delta = self.lppl(tc, m, w, a, b, c1, c2)\n",
    "        delta = np.subtract(delta, self.data)\n",
    "        delta = np.power(delta, 2)\n",
    "        return np.sum(delta)\n",
    "    \n",
    "    \n",
    "    def solve(self):\n",
    "        \n",
    "        found_solution = False\n",
    "        solution_count = 0\n",
    "        solutions = []\n",
    "\n",
    "        while not found_solution:\n",
    "            print(\"Running {}\".format(solution_count))\n",
    "\n",
    "            # set limits for non-linear params\n",
    "            limits = (\n",
    "                [self.n-(self.n*0.2), self.n+(self.n*0.2)],    # Critical Time + or - .2\n",
    "                [0.1, 0.9],                            # m : 0.1 ≤ m ≤ 0.9\n",
    "                [6, 13],                               # ω : 6 ≤ ω ≤ 13     \n",
    "            )\n",
    "\n",
    "            # randomly choose vals for non-linear params \n",
    "            non_lin_vals = [random.uniform(a[0], a[1]) for a in limits]\n",
    "\n",
    "            tc = non_lin_vals[0]\n",
    "            m  = non_lin_vals[1] \n",
    "            w  = non_lin_vals[2]\n",
    "\n",
    "            # params to pass to scipy.optimize\n",
    "            seed = [tc, m, w]\n",
    "\n",
    "            try:\n",
    "                cofs = minimize(fun=self.func, \n",
    "                                x0=seed, \n",
    "                                bounds=limits,\n",
    "                                method='Nelder-Mead')\n",
    "\n",
    "                if cofs.success:\n",
    "                    print(cofs)\n",
    "                    solutions.append({\n",
    "                        'fit': func_restricted(cofs.x),\n",
    "                        'cof': cofs.x\n",
    "                    })\n",
    "                    found_solution = True\n",
    "                else:\n",
    "                    solution_count = solution_count + 1\n",
    "\n",
    "                print(\"Success: {}\\nMessage: {}\".format(cofs.success, cofs.message))\n",
    "                print(\"Number of iterations: {}\".format(cofs.nit))\n",
    "                print(\"Number of evaluations of obj funcs: {}\".format(cofs.nfev))\n",
    "                print(\"-\"*25)\n",
    "            except Exception as e:\n",
    "                print(\"Exception: {}\".format(e))\n",
    "                print(non_lin_vals)\n",
    "                print(self.linear(non_lin_vals[0], non_lin_vals[1], non_lin_vals[2]))\n",
    "                solution_count = solution_count + 1"
   ]
  },
  {
   "cell_type": "code",
   "execution_count": 11,
   "metadata": {},
   "outputs": [
    {
     "name": "stdout",
     "output_type": "stream",
     "text": [
      "Seed:  [1.16128500e+03 8.70605595e-01 8.12910530e+00]\n",
      "Minimizing\n",
      "Optimization terminated successfully.    (Exit mode 0)\n",
      "            Current function value: 6759756.619509611\n",
      "            Iterations: 3\n",
      "            Function evaluations: 28\n",
      "            Gradient evaluations: 3\n"
     ]
    }
   ],
   "source": [
    "lppl = LPPL(df[:'2007-01-01'])\n",
    "solution = lppl.solve()\n",
    "tc = solution[0]\n",
    "m = solution[1]\n",
    "w = solution[2]\n",
    "a = solution[3]\n",
    "b = solution[4]\n",
    "c1 = solution[5]\n",
    "c2 = solution[6]"
   ]
  },
  {
   "cell_type": "code",
   "execution_count": 12,
   "metadata": {},
   "outputs": [
    {
     "name": "stdout",
     "output_type": "stream",
     "text": [
      "[1161.243874994496, 0.9, 8.18990774858473, 4.757840632751288, -0.0009312864726933474, -2.4351086191936276e-05, -0.00011527501347647033]\n"
     ]
    }
   ],
   "source": [
    "print(solution)"
   ]
  },
  {
   "cell_type": "code",
   "execution_count": 13,
   "metadata": {},
   "outputs": [
    {
     "data": {
      "text/plain": [
       "6759756.619509611"
      ]
     },
     "execution_count": 13,
     "metadata": {},
     "output_type": "execute_result"
    }
   ],
   "source": [
    "lppl.func([tc, m, w])"
   ]
  },
  {
   "cell_type": "code",
   "execution_count": 14,
   "metadata": {},
   "outputs": [
    {
     "data": {
      "text/plain": [
       "6759756.619509611"
      ]
     },
     "execution_count": 14,
     "metadata": {},
     "output_type": "execute_result"
    }
   ],
   "source": [
    "lppl.func_restricted([tc, m, w])"
   ]
  },
  {
   "cell_type": "code",
   "execution_count": 15,
   "metadata": {},
   "outputs": [],
   "source": [
    "lppl_fit = lppl.lppl(tc, m, w, a, b, c1, c2)\n",
    "lppl_fit = pd.Series(lppl_fit, index=df[:'2007-01-01'].index)"
   ]
  },
  {
   "cell_type": "code",
   "execution_count": 20,
   "metadata": {},
   "outputs": [
    {
     "data": {
      "text/plain": [
       "[<matplotlib.lines.Line2D at 0x128a01836a0>]"
      ]
     },
     "execution_count": 20,
     "metadata": {},
     "output_type": "execute_result"
    },
    {
     "data": {
      "image/png": "[encoded data removed]",
      "text/plain": [
       "<Figure size 432x288 with 1 Axes>"
      ]
     },
     "metadata": {
      "needs_background": "light"
     },
     "output_type": "display_data"
    }
   ],
   "source": [
    "fig, ax = plt.subplots()\n",
    "\n",
    "ax.plot(np.log(df))\n",
    "ax.plot(lppl_fit)"
   ]
  },
  {
   "cell_type": "code",
   "execution_count": 21,
   "metadata": {},
   "outputs": [
    {
     "name": "stderr",
     "output_type": "stream",
     "text": [
      "C:\\Users\\brian\\Anaconda3\\lib\\site-packages\\ipykernel_launcher.py:9: RuntimeWarning: invalid value encountered in power\n",
      "  if __name__ == '__main__':\n",
      "C:\\Users\\brian\\Anaconda3\\lib\\site-packages\\ipykernel_launcher.py:9: RuntimeWarning: invalid value encountered in log\n",
      "  if __name__ == '__main__':\n"
     ]
    }
   ],
   "source": [
    "lf = LPPL(df[:'2009-01-01'])\n",
    "lf_d = lf.lppl(tc, m, w, a, b, c1, c2)"
   ]
  },
  {
   "cell_type": "code",
   "execution_count": 22,
   "metadata": {},
   "outputs": [
    {
     "data": {
      "text/plain": [
       "[<matplotlib.lines.Line2D at 0x128a01e7be0>]"
      ]
     },
     "execution_count": 22,
     "metadata": {},
     "output_type": "execute_result"
    },
    {
     "data": {
      "image/png": "[encoded data removed]",
      "text/plain": [
       "<Figure size 432x288 with 1 Axes>"
      ]
     },
     "metadata": {
      "needs_background": "light"
     },
     "output_type": "display_data"
    }
   ],
   "source": [
    "fig, ax = plt.subplots()\n",
    "ax.plot(np.log(df))\n",
    "ax.plot(pd.Series(lf_d, index=df[:'2009-01-01'].index))"
   ]
  },
  {
   "cell_type": "code",
   "execution_count": 20,
   "metadata": {},
   "outputs": [
    {
     "name": "stdout",
     "output_type": "stream",
     "text": [
      "my linear variables:  [1.650081157068124, -0.005623140220910657, 0.00014529143805863475, -0.0002617383233847254]\n",
      "github matrix eq. linear variables:  [1.6500811570678242, -0.0056231402208999914, 0.00014529143805768442, -0.00026173832338550974]\n"
     ]
    }
   ],
   "source": [
    "l = len(df[:'2007-01-01'])\n",
    "\n",
    "tc = l * 1.33\n",
    "m = 0.5\n",
    "w = 9\n",
    "\n",
    "lppl = LPPL(df[:'2007-01-01']) # my matrix equations/helper functions\n",
    "lppl_testing = LPPL_testing(df[:'2007-01-01']) # from github\n",
    "\n",
    "lin = lppl.linear(tc, m, w)\n",
    "lin_testing = lppl_testing.linear(tc, m, w)\n",
    "\n",
    "print('my linear variables: ', lin)\n",
    "print('github matrix eq. linear variables: ', lin_testing)\n"
   ]
  },
  {
   "cell_type": "code",
   "execution_count": 27,
   "metadata": {},
   "outputs": [],
   "source": [
    "l = len(df[:'2007-01-01'])\n",
    "\n",
    "tc = l * 1.33\n",
    "m = 0.5\n",
    "w = 9\n",
    "\n",
    "lppl = LPPL(df[:'2007-01-01']) # my matrix equations/helper functions\n",
    "lppl_testing = LPPL_testing(df[:'2007-01-01']) # from github\n",
    "\n",
    "lin = lppl.linear(tc, m, w)\n",
    "lin_testing = lppl_testing.linear(tc, m, w)\n",
    "\n",
    "\n",
    "a = lin[0]\n",
    "b = lin[1]\n",
    "c1 = lin[2]\n",
    "c2 = lin[3]\n",
    "\n",
    "at = lin_testing[0]\n",
    "bt = lin_testing[1]\n",
    "c1t = lin_testing[2]\n",
    "c2t = lin_testing[3]\n",
    "\n",
    "lppl_results = lppl.lppl(tc, m, w, a, b, c1, c2)\n",
    "lppl_t_results = [lppl_testing.lppl(t, tc, m, w, a, b, c1, c2) for t in np.array(range(len(df[:'2007-01-01'])))]"
   ]
  },
  {
   "cell_type": "code",
   "execution_count": 32,
   "metadata": {},
   "outputs": [
    {
     "data": {
      "text/plain": [
       "[<matplotlib.lines.Line2D at 0x280ed732898>]"
      ]
     },
     "execution_count": 32,
     "metadata": {},
     "output_type": "execute_result"
    },
    {
     "data": {
      "image/png": "[encoded data removed]",
      "text/plain": [
       "<Figure size 432x288 with 1 Axes>"
      ]
     },
     "metadata": {
      "needs_background": "light"
     },
     "output_type": "display_data"
    }
   ],
   "source": [
    "fig, ax = plt.subplots()\n",
    "\n",
    "ax.plot(lppl_results)\n",
    "ax.plot(lppl_t_results)"
   ]
  },
  {
   "cell_type": "code",
   "execution_count": null,
   "metadata": {},
   "outputs": [],
   "source": [
    "l = len(df[:'2007-01-01'])\n",
    "\n",
    "tc = l * 1.33\n",
    "m = 0.5\n",
    "w = 9\n",
    "\n",
    "lppl = LPPL(df[:'2007-01-01']) # my matrix equations/helper functions\n",
    "lppl_testing = LPPL_testing(df[:'2007-01-01']) # from github\n",
    "\n",
    "delta = lppl.func(tc, m, w)\n",
    "delta_t = [lppl(t, tc, m, w, a, b, c1, c2) for t in data_series[0]]\n",
    "delta_t = np.subtract(delta, data_series[1])\n",
    "delta_t = np.power(delta, 2)\n",
    "\n",
    "\n",
    "print('delta: ', delta)\n",
    "print('delta_Test: ', delta_testing)"
   ]
  }
 ],
 "metadata": {
  "kernelspec": {
   "display_name": "Python 3",
   "language": "python",
   "name": "python3"
  },
  "language_info": {
   "codemirror_mode": {
    "name": "ipython",
    "version": 3
   },
   "file_extension": ".py",
   "mimetype": "text/x-python",
   "name": "python",
   "nbconvert_exporter": "python",
   "pygments_lexer": "ipython3",
   "version": "3.7.3"
  }
 },
 "nbformat": 4,
 "nbformat_minor": 2
}
