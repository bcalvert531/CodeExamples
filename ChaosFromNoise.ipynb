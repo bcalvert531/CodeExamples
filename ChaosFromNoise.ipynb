{
 "cells": [
  {
   "cell_type": "markdown",
   "metadata": {},
   "source": [
    "# Distinguishing Chaos from Noise in Financial Markets\n",
    "\n",
    "##### A Python implementation of Rosso et al.'s 2007 paper Distinguishing Noise from Chaos, and an application to finance & trading using data from equities, bonds, commodities, deriviatives, & crypto markets.\n",
    "\n"
   ]
  },
  {
   "cell_type": "markdown",
   "metadata": {},
   "source": [
    "In their 2007 paper, Rosso et al propose a computational method for distinguishing chaotic systems - which posses internal structures and some degree of regularity - from pure noise, which is often a difficult task as chaotic and noisy systems share a data signature. This is done by plotting time series on a plane using Complexity and Excess Entropy with respect to the uniform probability distribution, where chaotic processes have relatively lower excess entropy and higher complexity than purely noisy ones.\n",
    "\n",
    "The strategy of Rosso et al consists of two key steps:\n",
    "\n",
    "1) Use the a method for identifying patterns within a time series by computing a probability distribution over ordinal combinations of a rolling window. \n",
    "\n",
    "2) Use this probability distribution to calculate excess entropy & complexity, then plot the time series of interest on this representational plane. \n",
    "\n",
    "We'll follow along with a simple pedagogical example out of Rosso et al to build intuition as we construct our algorithm in Python, then apply it at scale to data from diverse financial markets with an eye to identifying which instruments are closer or further to information efficiency and so more or less exploitable."
   ]
  },
  {
   "cell_type": "markdown",
   "metadata": {},
   "source": [
    "## A Simple Example\n",
    "\n",
    "### Bandt & Pompe Time Series Method\n",
    "\n",
    "Let's begin with a simple example using a short time series to illustrate the basic concept, from Bandt & Pompe [2002]. This toy example is small enough that you can easily verify the operations for yourself.\n",
    "\n",
    "We'll construct the ordinal configuration space for a given window size, compute our empirical probability distribution, and then calculate excess entropy, complexity & a few other key quantities."
   ]
  },
  {
   "cell_type": "code",
   "execution_count": 165,
   "metadata": {},
   "outputs": [],
   "source": [
    "# importing some useful libraries we'll use throughout\n",
    "\n",
    "import pandas as pd\n",
    "import numpy as np\n",
    "import scipy.stats\n",
    "import itertools\n",
    "import matplotlib.pyplot as plt\n",
    "import yfinance as yf\n",
    "import ccxt\n",
    "from datetime import datetime, timedelta\n",
    "import time"
   ]
  },
  {
   "cell_type": "code",
   "execution_count": 166,
   "metadata": {},
   "outputs": [
    {
     "data": {
      "text/plain": [
       "0     4\n",
       "1     7\n",
       "2     9\n",
       "3    10\n",
       "4     6\n",
       "5    11\n",
       "6     3\n",
       "dtype: int64"
      ]
     },
     "execution_count": 166,
     "metadata": {},
     "output_type": "execute_result"
    }
   ],
   "source": [
    "# our toy example time series\n",
    "time_series = pd.Series([4, 7, 9, 10, 6, 11, 3])\n",
    "\n",
    "time_series"
   ]
  },
  {
   "cell_type": "markdown",
   "metadata": {},
   "source": [
    "Now, let's use a rolling window size of 3 and assign an order to each window slice of our time series. In order to create the sort of combinatoral configuration space we can efficiently build a probability distribution over, we're going to assign each 3-tuple window slice an order: {0, 1, 2}.\n",
    "\n",
    "Our example time series is small enough that we could do this by hand. Since our window has a length = 3, our first slice of data is: [4, 7, 9]. The order assigns each value in the sliec the index it would posses if the slice were sorted ascending: (1, 2, 3), because the slice is already in ascending order. The final slice is: [6, 11, 3]; and the order: (2, 3, 1).\n",
    "\n",
    "We can, of course, do this algorithmically:"
   ]
  },
  {
   "cell_type": "code",
   "execution_count": 167,
   "metadata": {},
   "outputs": [],
   "source": [
    "window = 3\n",
    "\n",
    "# nb: ideally, window <<< len(time_series).\n",
    "# this will be true of our real data, but not in our simple example"
   ]
  },
  {
   "cell_type": "markdown",
   "metadata": {},
   "source": [
    "First let's slice up our time series as described above:"
   ]
  },
  {
   "cell_type": "code",
   "execution_count": 168,
   "metadata": {},
   "outputs": [
    {
     "data": {
      "text/plain": [
       "[(4, 7, 9), (7, 9, 10), (9, 10, 6), (10, 6, 11), (6, 11, 3)]"
      ]
     },
     "execution_count": 168,
     "metadata": {},
     "output_type": "execute_result"
    }
   ],
   "source": [
    " slices = list(zip(*[time_series.dropna().values[i:].tolist() for i in range(window)]))\n",
    "    # zips the time series into a list of tuples of length 'window', for each index in len(time_series) - window:\n",
    "    # dropna() to remove #N/A values, which break argsort\n",
    "    \n",
    "slices"
   ]
  },
  {
   "cell_type": "markdown",
   "metadata": {},
   "source": [
    "Now we can induce an order on these slices:"
   ]
  },
  {
   "cell_type": "code",
   "execution_count": 169,
   "metadata": {},
   "outputs": [
    {
     "data": {
      "text/plain": [
       "0    (1, 2, 3)\n",
       "1    (1, 2, 3)\n",
       "2    (2, 3, 1)\n",
       "3    (2, 1, 3)\n",
       "4    (2, 3, 1)\n",
       "dtype: object"
      ]
     },
     "execution_count": 169,
     "metadata": {},
     "output_type": "execute_result"
    }
   ],
   "source": [
    "orders = pd.Series([tuple(scipy.stats.rankdata(s, method='ordinal')) for s in slices])\n",
    "    # takes the list of tuples and uses rankdata() to give an ordinal ranking to the values of each tuple\n",
    "    # need to cast as Series of tuples in order to make pd.value_counts work \n",
    "    \n",
    "orders"
   ]
  },
  {
   "cell_type": "markdown",
   "metadata": {},
   "source": [
    "And we can count the number of times each ordered permutation appears in our time series:"
   ]
  },
  {
   "cell_type": "code",
   "execution_count": 170,
   "metadata": {},
   "outputs": [
    {
     "data": {
      "text/plain": [
       "(1, 2, 3)    2\n",
       "(2, 3, 1)    2\n",
       "(2, 1, 3)    1\n",
       "dtype: int64"
      ]
     },
     "execution_count": 170,
     "metadata": {},
     "output_type": "execute_result"
    }
   ],
   "source": [
    "frequencies = pd.value_counts(orders)\n",
    "\n",
    "frequencies"
   ]
  },
  {
   "cell_type": "markdown",
   "metadata": {},
   "source": [
    "These are the _empirical_ ordinal configurations of our 3-window time series. We need to calculate the possible permutations of window length 3, in case our time series doesn't span the full ordinal configuration space. \n",
    "\n",
    "This is the case with our toy example! Confirm: 3! = 6 permutations, but we only have 3 different orders in our data above. We're missing: (1, 3, 2), (3, 1, 2), & (3, 2, 1).\n",
    "\n",
    "If we neglected to construct the full space, and incorrectly used only the empirical orders, we might exclude some possibilities with empirical frequencies of 0, and some of our metrics (e.g. uniform and excess entropy) would be off. (For a longer time series, where window <<< len(time_series), this is likely a non-issue.)\n",
    "\n",
    "We can construct this configuration space of all permutations simply:"
   ]
  },
  {
   "cell_type": "code",
   "execution_count": 171,
   "metadata": {},
   "outputs": [
    {
     "data": {
      "text/plain": [
       "0    (1, 2, 3)\n",
       "1    (1, 3, 2)\n",
       "2    (2, 1, 3)\n",
       "3    (2, 3, 1)\n",
       "4    (3, 1, 2)\n",
       "5    (3, 2, 1)\n",
       "dtype: object"
      ]
     },
     "execution_count": 171,
     "metadata": {},
     "output_type": "execute_result"
    }
   ],
   "source": [
    "ordinal_values = list(range(1,window + 1))\n",
    "\n",
    "permutations = pd.Series(itertools.permutations(ordinal_values))\n",
    "\n",
    "permutations"
   ]
  },
  {
   "cell_type": "markdown",
   "metadata": {},
   "source": [
    "Now we're ready to calculate our empirical probability distribution over this configuration space. Simply count the number of times each permutation occurs in our time series's orders, and divide by the number of slices:"
   ]
  },
  {
   "cell_type": "code",
   "execution_count": 172,
   "metadata": {},
   "outputs": [
    {
     "data": {
      "text/html": [
       "<div>\n",
       "<style scoped>\n",
       "    .dataframe tbody tr th:only-of-type {\n",
       "        vertical-align: middle;\n",
       "    }\n",
       "\n",
       "    .dataframe tbody tr th {\n",
       "        vertical-align: top;\n",
       "    }\n",
       "\n",
       "    .dataframe thead th {\n",
       "        text-align: right;\n",
       "    }\n",
       "</style>\n",
       "<table border=\"1\" class=\"dataframe\">\n",
       "  <thead>\n",
       "    <tr style=\"text-align: right;\">\n",
       "      <th></th>\n",
       "      <th>Frequencies</th>\n",
       "      <th>Probabilities</th>\n",
       "    </tr>\n",
       "  </thead>\n",
       "  <tbody>\n",
       "    <tr>\n",
       "      <th>(1, 2, 3)</th>\n",
       "      <td>2.0</td>\n",
       "      <td>0.4</td>\n",
       "    </tr>\n",
       "    <tr>\n",
       "      <th>(1, 3, 2)</th>\n",
       "      <td>0.0</td>\n",
       "      <td>0.0</td>\n",
       "    </tr>\n",
       "    <tr>\n",
       "      <th>(2, 1, 3)</th>\n",
       "      <td>1.0</td>\n",
       "      <td>0.2</td>\n",
       "    </tr>\n",
       "    <tr>\n",
       "      <th>(2, 3, 1)</th>\n",
       "      <td>2.0</td>\n",
       "      <td>0.4</td>\n",
       "    </tr>\n",
       "    <tr>\n",
       "      <th>(3, 1, 2)</th>\n",
       "      <td>0.0</td>\n",
       "      <td>0.0</td>\n",
       "    </tr>\n",
       "    <tr>\n",
       "      <th>(3, 2, 1)</th>\n",
       "      <td>0.0</td>\n",
       "      <td>0.0</td>\n",
       "    </tr>\n",
       "  </tbody>\n",
       "</table>\n",
       "</div>"
      ],
      "text/plain": [
       "           Frequencies  Probabilities\n",
       "(1, 2, 3)          2.0            0.4\n",
       "(1, 3, 2)          0.0            0.0\n",
       "(2, 1, 3)          1.0            0.2\n",
       "(2, 3, 1)          2.0            0.4\n",
       "(3, 1, 2)          0.0            0.0\n",
       "(3, 2, 1)          0.0            0.0"
      ]
     },
     "execution_count": 172,
     "metadata": {},
     "output_type": "execute_result"
    }
   ],
   "source": [
    "probabilities = pd.DataFrame(index=permutations, data=frequencies, columns=['Frequencies']).fillna(0)\n",
    "\n",
    "probabilities['Probabilities'] = probabilities['Frequencies'] / len(slices)\n",
    "\n",
    "probabilities"
   ]
  },
  {
   "cell_type": "markdown",
   "metadata": {},
   "source": [
    "Now we have empirical probabilities for the ordinal permutations of our time series, including probabilities of 0 for orders that don't occur in our data. This concludes step 1, the Bandt & Pompe method. \n",
    "\n",
    "### Excess Entropy & Complexity\n",
    "\n",
    "Next we'll calculate some simple metrics and plot our data on the Entropy x Complexity representational plane of Rosso et al."
   ]
  },
  {
   "cell_type": "markdown",
   "metadata": {},
   "source": [
    "#### Excess Entropy\n",
    "\n",
    "We'll use Shannon entropy for our calculations, as do the authors, but the method could in principle use any entropy algorithm, if say you have a system that occupies a dimensionally-constrained manifold within a higher-dimensional configuration space (e.g. a self-organizing complex system that restricts itself to certain patterns states). \n",
    "\n",
    "The discrete Shannon entropy, in bits:\n",
    "\\begin{equation}\n",
    "H(X) = -\\sum_{i=0}^{n} P(x_i)\\log_2P(x_i)\n",
    "\\end{equation}\n",
    "\n",
    "We'll just use scipy.stats:"
   ]
  },
  {
   "cell_type": "code",
   "execution_count": 173,
   "metadata": {},
   "outputs": [
    {
     "data": {
      "text/plain": [
       "1.5219280948873626"
      ]
     },
     "execution_count": 173,
     "metadata": {},
     "output_type": "execute_result"
    }
   ],
   "source": [
    "entropy = scipy.stats.entropy(probabilities['Probabilities'], base=2)\n",
    "\n",
    "entropy"
   ]
  },
  {
   "cell_type": "markdown",
   "metadata": {},
   "source": [
    "Next, we need to compute our excess entropy, the ratio between the entropy of our empirical distribution and that of the uniform distribution over our configuration space. (nb: Excess entropy is typically interpreted as negentropy: uniform_entropy - empirical_entropy. the author's use of a ratio here isn't quite properly 'excess entropy', but there's no better simple term for it.)\n",
    "\n",
    "We'll do this by first computing the maximum entropy of our space, which is of the uniform distribution $\\frac{1}{N}$, where $N$ is the number of possible configurations:"
   ]
  },
  {
   "cell_type": "code",
   "execution_count": 174,
   "metadata": {},
   "outputs": [
    {
     "data": {
      "text/html": [
       "<div>\n",
       "<style scoped>\n",
       "    .dataframe tbody tr th:only-of-type {\n",
       "        vertical-align: middle;\n",
       "    }\n",
       "\n",
       "    .dataframe tbody tr th {\n",
       "        vertical-align: top;\n",
       "    }\n",
       "\n",
       "    .dataframe thead th {\n",
       "        text-align: right;\n",
       "    }\n",
       "</style>\n",
       "<table border=\"1\" class=\"dataframe\">\n",
       "  <thead>\n",
       "    <tr style=\"text-align: right;\">\n",
       "      <th></th>\n",
       "      <th>Frequencies</th>\n",
       "      <th>Probabilities</th>\n",
       "      <th>Uniform</th>\n",
       "    </tr>\n",
       "  </thead>\n",
       "  <tbody>\n",
       "    <tr>\n",
       "      <th>(1, 2, 3)</th>\n",
       "      <td>2.0</td>\n",
       "      <td>0.4</td>\n",
       "      <td>0.166667</td>\n",
       "    </tr>\n",
       "    <tr>\n",
       "      <th>(1, 3, 2)</th>\n",
       "      <td>0.0</td>\n",
       "      <td>0.0</td>\n",
       "      <td>0.166667</td>\n",
       "    </tr>\n",
       "    <tr>\n",
       "      <th>(2, 1, 3)</th>\n",
       "      <td>1.0</td>\n",
       "      <td>0.2</td>\n",
       "      <td>0.166667</td>\n",
       "    </tr>\n",
       "    <tr>\n",
       "      <th>(2, 3, 1)</th>\n",
       "      <td>2.0</td>\n",
       "      <td>0.4</td>\n",
       "      <td>0.166667</td>\n",
       "    </tr>\n",
       "    <tr>\n",
       "      <th>(3, 1, 2)</th>\n",
       "      <td>0.0</td>\n",
       "      <td>0.0</td>\n",
       "      <td>0.166667</td>\n",
       "    </tr>\n",
       "    <tr>\n",
       "      <th>(3, 2, 1)</th>\n",
       "      <td>0.0</td>\n",
       "      <td>0.0</td>\n",
       "      <td>0.166667</td>\n",
       "    </tr>\n",
       "  </tbody>\n",
       "</table>\n",
       "</div>"
      ],
      "text/plain": [
       "           Frequencies  Probabilities   Uniform\n",
       "(1, 2, 3)          2.0            0.4  0.166667\n",
       "(1, 3, 2)          0.0            0.0  0.166667\n",
       "(2, 1, 3)          1.0            0.2  0.166667\n",
       "(2, 3, 1)          2.0            0.4  0.166667\n",
       "(3, 1, 2)          0.0            0.0  0.166667\n",
       "(3, 2, 1)          0.0            0.0  0.166667"
      ]
     },
     "execution_count": 174,
     "metadata": {},
     "output_type": "execute_result"
    }
   ],
   "source": [
    "N = len(probabilities.index)\n",
    "\n",
    "probabilities['Uniform'] = 1 / N\n",
    "\n",
    "probabilities"
   ]
  },
  {
   "cell_type": "code",
   "execution_count": 175,
   "metadata": {},
   "outputs": [
    {
     "data": {
      "text/plain": [
       "2.584962500721156"
      ]
     },
     "execution_count": 175,
     "metadata": {},
     "output_type": "execute_result"
    }
   ],
   "source": [
    "maximum_entropy = scipy.stats.entropy(probabilities['Uniform'], base=2)\n",
    "\n",
    "maximum_entropy"
   ]
  },
  {
   "cell_type": "markdown",
   "metadata": {},
   "source": [
    "This uniform entropy is equivalent to log(N):"
   ]
  },
  {
   "cell_type": "code",
   "execution_count": 176,
   "metadata": {},
   "outputs": [
    {
     "data": {
      "text/plain": [
       "2.584962500721156"
      ]
     },
     "execution_count": 176,
     "metadata": {},
     "output_type": "execute_result"
    }
   ],
   "source": [
    "import math\n",
    "\n",
    "math.log(N, 2) # first parameter is the argument, second is for the base of the logarithm"
   ]
  },
  {
   "cell_type": "markdown",
   "metadata": {},
   "source": [
    "(nb: This is why excluding ordinal permutations with empirical frequency of 0 would result in the wrong answer here.) \n",
    "\n",
    "We can now calculate a sort of excess entropy, here the ratio between our empirical distribution and the maximum entropy uniform distribution:"
   ]
  },
  {
   "cell_type": "code",
   "execution_count": 177,
   "metadata": {},
   "outputs": [
    {
     "data": {
      "text/plain": [
       "0.588762155916294"
      ]
     },
     "execution_count": 177,
     "metadata": {},
     "output_type": "execute_result"
    }
   ],
   "source": [
    "excess_entropy = entropy / maximum_entropy\n",
    "\n",
    "excess_entropy"
   ]
  },
  {
   "cell_type": "markdown",
   "metadata": {},
   "source": [
    "This is the first dimension of our representational plane.\n",
    "\n",
    "#### Complexity\n",
    "\n",
    "Next we'll plot the intensive complexity of our time series to obtain the second dimension. The complexity of a probability distribution is defined as:\n",
    "\n",
    "\\begin{equation}\n",
    "C(P) = Q_{JS}[P, P_U] H_S(P)\n",
    "\\end{equation}\n",
    "\n",
    "where $Q_{JS}$ represents the Jensen-Shannon Divergence between our chosen distribution $P$ and the uniform distribution over the same configuration space $P_U$, and where $H_S$ represents the excess entropy quantity above.\n",
    "\n",
    "The Jensen-Shannon Divergence $Q_{JS}$ is a symmetrical, square-metric version of the typical Kullback-Leiber divergence between two probability distributions. Here, we calculate the divergence with respect to the uniform distribution:\n",
    "\n",
    "\\begin{equation}\n",
    "Q_{JS}[P, P_U] = C * (S(\\frac{P + P_U}{2}) - \\frac{S(P)}{2} - \\frac{S(P_U)}{2})\n",
    "\\end{equation}\n",
    "\n",
    "where $S$ is the Shannon entropy and $C$ is a normalizing constant, here $\\frac{1}{2}$ for two distributions, ensuring $(0 \\leq Q_{JS} \\leq 1)$.\n",
    "\n",
    "Let's calculate:"
   ]
  },
  {
   "cell_type": "code",
   "execution_count": 178,
   "metadata": {},
   "outputs": [
    {
     "data": {
      "text/plain": [
       "0.16125260031186084"
      ]
     },
     "execution_count": 178,
     "metadata": {},
     "output_type": "execute_result"
    }
   ],
   "source": [
    "# jensesn-shannon divergence\n",
    "divergence = 0.5 * (scipy.stats.entropy((probabilities['Probabilities'] + probabilities['Uniform']) / 2, base=2) \\\n",
    "                        - (scipy.stats.entropy(probabilities['Probabilities'], base=2) / 2) \\\n",
    "                        - (scipy.stats.entropy(probabilities['Uniform'], base=2) / 2))\n",
    "\n",
    "divergence"
   ]
  },
  {
   "cell_type": "markdown",
   "metadata": {},
   "source": [
    "And now the complexity metric:"
   ]
  },
  {
   "cell_type": "code",
   "execution_count": 179,
   "metadata": {},
   "outputs": [
    {
     "data": {
      "text/plain": [
       "0.09493942860671965"
      ]
     },
     "execution_count": 179,
     "metadata": {},
     "output_type": "execute_result"
    }
   ],
   "source": [
    "complexity = divergence * excess_entropy\n",
    "\n",
    "complexity"
   ]
  },
  {
   "cell_type": "markdown",
   "metadata": {},
   "source": [
    "We now have everything we need to plot our time series on Rosso et al's Complexity x Entropy representational plane:"
   ]
  },
  {
   "cell_type": "code",
   "execution_count": 180,
   "metadata": {},
   "outputs": [
    {
     "data": {
      "image/png": "[encoded data removed]",
      "text/plain": [
       "<Figure size 432x288 with 1 Axes>"
      ]
     },
     "metadata": {
      "needs_background": "light"
     },
     "output_type": "display_data"
    }
   ],
   "source": [
    "fig, ax = plt.subplots()\n",
    "ax.set_xlabel('Excess Entropy')\n",
    "ax.set_ylabel('Complexity')\n",
    "plt.title('Entropy-Complexity Causality Plane')\n",
    "\n",
    "plt.scatter(x=excess_entropy,\n",
    "            y=complexity,\n",
    "            label='Toy Example')\n",
    "\n",
    "plt.legend()\n",
    "plt.show()"
   ]
  },
  {
   "cell_type": "markdown",
   "metadata": {},
   "source": [
    "Et voila! The sense of this will become clearer when we do this with real data, plotting multiple time series in comparison. \n",
    "\n",
    "But for now, here are some examples from Rosso et al showing how algorithms from computer science for various cannonical chaotic and noisy systems lay on this plane:"
   ]
  },
  {
   "cell_type": "markdown",
   "metadata": {},
   "source": [
    "![Graph](C:\\Users\\brian\\Desktop\\Complexity-Entropy-Plane.png)"
   ]
  },
  {
   "cell_type": "markdown",
   "metadata": {},
   "source": [
    "## An Application to Financial Data"
   ]
  },
  {
   "cell_type": "markdown",
   "metadata": {},
   "source": [
    "Let's see if we can use this method to quantify the degree of structure within a financial market, with an eye towards sorting them by each market's informational efficiency, and hopefully the market's exploitability by coarse trading strategies.\n",
    "\n",
    "We'll collate a variety of different sorts of market data, including large & small cap equities, emerging markets, bonds, currency markets, derivative markets, and cryptocurrencies. We'll use log returns on daily Open High Low Close (OHLC) data; for equities, going back 5 years; for crypto, the exchange limits us to data from 2018-01-15. \n",
    "\n",
    "When we work with financial price data, we need to be careful to standardize price data of different magnitudes by converting to returns - the percent change day to day - and then ensure statistical normality by working on the log of the cumulative returns, ie log(1 + r).\n",
    "\n",
    "### Getting the data\n",
    "\n",
    "The funds & tickers we'll use:\n",
    "\n",
    "| Type | Fund | Ticker |\n",
    "| ---- | -----| -----  |\n",
    "| Large Equity | S&P 500 ETF | SPY |\n",
    "| Large Equity | Apple | AAPL | \n",
    "| Large Equity | Tesla | TSLA |\n",
    "| Large Equity | 3M | MMM |\n",
    "| Mid Equity | Vanguard MidCap MF | VIMAX |\n",
    "| Mid Equity | Crocks | CROX |\n",
    "| Mid Equity | Magellan Midstream | MMP |\n",
    "| Small Equity | Vanguard Small Cap MF | VSMAX |  \n",
    "| Emerging Markets | iShares MSCI Emerging Markets ETF | EEM |\n",
    "| Bonds | iShares US Treasury Bonds ETF | GOVT | \n",
    "| Bonds | iShares Corporate Bond ETF | LQD |\n",
    "| Bonds | Vanguard Tax-Exempt Bond Index | VTEAX |\n",
    "| Derivatives | ProShares VIX Mid-Term Futures ETF | VIXM |\n",
    "| Crypto | Bitcoin | BTC/USDT |\n",
    "| Crypto | Etherium | ETH/USDT | \n",
    "| Crypto | BinanceCoin | BNB/USDT |\n"
   ]
  },
  {
   "cell_type": "markdown",
   "metadata": {},
   "source": [
    "For equities & bonds, we'll use the package yfinance to easily pull these tickers' OHLC data from Yahoo Finance. For crypto, we'll pull from Binance using the CCXT package.\n",
    "\n",
    "Our plan here is to pull Open High Low Close data on a 1 day interval over the past 1 year from some API, then to convert it into daily returns by calculating the percent change day to day. We'll then send the daily returns data through Rosso et al's analysis.\n",
    "\n",
    "We'll have to treat crypto seperately from the other markets since crypto trades on the weekends & holidays (+ exchange data pull limitations) and so the time series are differently sized, but it would be improper to fillna() in non-crypto markets or drop weekend/holiday records in crypto. Once we analyze each dataset using Rosso et al's method and obtain our ordinal configuration space & probabiliy distributions, we can join the disparate markets back together again.\n",
    "\n",
    "Let's being by pulling the non-crypto price data and converting to returns:"
   ]
  },
  {
   "cell_type": "code",
   "execution_count": 238,
   "metadata": {},
   "outputs": [],
   "source": [
    "tickers = ['SPY', 'AAPL', 'TSLA', 'MMM', 'VIMAX', 'CROX', 'MMP', 'VSMAX', 'EEM', 'GOVT', 'LQD', 'VTEAX', 'VIXM']          \n",
    "crypto_tickers = ['BTC/USDT', 'ETH/USDT', 'BNB/USDT']"
   ]
  },
  {
   "cell_type": "code",
   "execution_count": 12,
   "metadata": {},
   "outputs": [
    {
     "name": "stdout",
     "output_type": "stream",
     "text": [
      "[*********************100%***********************]  13 of 13 completed\n"
     ]
    }
   ],
   "source": [
    "prices = yf.download(tickers, period='5y', interval='1d')"
   ]
  },
  {
   "cell_type": "code",
   "execution_count": 13,
   "metadata": {},
   "outputs": [
    {
     "data": {
      "text/plain": [
       "<matplotlib.axes._subplots.AxesSubplot at 0x1a9f7697518>"
      ]
     },
     "execution_count": 13,
     "metadata": {},
     "output_type": "execute_result"
    },
    {
     "data": {
      "image/png": "[encoded data removed]",
      "text/plain": [
       "<Figure size 432x288 with 1 Axes>"
      ]
     },
     "metadata": {
      "needs_background": "light"
     },
     "output_type": "display_data"
    }
   ],
   "source": [
    "prices['Close'].plot(legend=False)"
   ]
  },
  {
   "cell_type": "code",
   "execution_count": 234,
   "metadata": {},
   "outputs": [
    {
     "data": {
      "text/plain": [
       "<matplotlib.axes._subplots.AxesSubplot at 0x1a9fa3c9518>"
      ]
     },
     "execution_count": 234,
     "metadata": {},
     "output_type": "execute_result"
    },
    {
     "data": {
      "image/png": "[encoded data removed]",
      "text/plain": [
       "<Figure size 432x288 with 1 Axes>"
      ]
     },
     "metadata": {
      "needs_background": "light"
     },
     "output_type": "display_data"
    }
   ],
   "source": [
    "prices['Close','VTEAX'].plot()"
   ]
  },
  {
   "cell_type": "code",
   "execution_count": 135,
   "metadata": {},
   "outputs": [
    {
     "data": {
      "text/html": [
       "<div>\n",
       "<style scoped>\n",
       "    .dataframe tbody tr th:only-of-type {\n",
       "        vertical-align: middle;\n",
       "    }\n",
       "\n",
       "    .dataframe tbody tr th {\n",
       "        vertical-align: top;\n",
       "    }\n",
       "\n",
       "    .dataframe thead th {\n",
       "        text-align: right;\n",
       "    }\n",
       "</style>\n",
       "<table border=\"1\" class=\"dataframe\">\n",
       "  <thead>\n",
       "    <tr style=\"text-align: right;\">\n",
       "      <th></th>\n",
       "      <th>AAPL</th>\n",
       "      <th>CROX</th>\n",
       "      <th>EEM</th>\n",
       "      <th>GOVT</th>\n",
       "      <th>LQD</th>\n",
       "      <th>MMM</th>\n",
       "      <th>MMP</th>\n",
       "      <th>SPY</th>\n",
       "      <th>TSLA</th>\n",
       "      <th>VIMAX</th>\n",
       "      <th>VIXM</th>\n",
       "      <th>VSMAX</th>\n",
       "      <th>VTEAX</th>\n",
       "    </tr>\n",
       "    <tr>\n",
       "      <th>Date</th>\n",
       "      <th></th>\n",
       "      <th></th>\n",
       "      <th></th>\n",
       "      <th></th>\n",
       "      <th></th>\n",
       "      <th></th>\n",
       "      <th></th>\n",
       "      <th></th>\n",
       "      <th></th>\n",
       "      <th></th>\n",
       "      <th></th>\n",
       "      <th></th>\n",
       "      <th></th>\n",
       "    </tr>\n",
       "  </thead>\n",
       "  <tbody>\n",
       "    <tr>\n",
       "      <th>2016-05-31</th>\n",
       "      <td>NaN</td>\n",
       "      <td>NaN</td>\n",
       "      <td>NaN</td>\n",
       "      <td>NaN</td>\n",
       "      <td>NaN</td>\n",
       "      <td>NaN</td>\n",
       "      <td>NaN</td>\n",
       "      <td>NaN</td>\n",
       "      <td>NaN</td>\n",
       "      <td>NaN</td>\n",
       "      <td>NaN</td>\n",
       "      <td>NaN</td>\n",
       "      <td>NaN</td>\n",
       "    </tr>\n",
       "    <tr>\n",
       "      <th>2016-06-01</th>\n",
       "      <td>-0.014119</td>\n",
       "      <td>0.050531</td>\n",
       "      <td>-0.000604</td>\n",
       "      <td>-0.001947</td>\n",
       "      <td>-0.002096</td>\n",
       "      <td>0.002196</td>\n",
       "      <td>0.022863</td>\n",
       "      <td>0.002047</td>\n",
       "      <td>-0.016577</td>\n",
       "      <td>0.002404</td>\n",
       "      <td>-0.007225</td>\n",
       "      <td>0.005579</td>\n",
       "      <td>0.000000</td>\n",
       "    </tr>\n",
       "    <tr>\n",
       "      <th>2016-06-02</th>\n",
       "      <td>-0.007544</td>\n",
       "      <td>0.002894</td>\n",
       "      <td>0.008124</td>\n",
       "      <td>0.002724</td>\n",
       "      <td>0.002012</td>\n",
       "      <td>-0.003861</td>\n",
       "      <td>0.007783</td>\n",
       "      <td>0.003039</td>\n",
       "      <td>-0.002736</td>\n",
       "      <td>0.005824</td>\n",
       "      <td>-0.004320</td>\n",
       "      <td>0.006797</td>\n",
       "      <td>0.000483</td>\n",
       "    </tr>\n",
       "    <tr>\n",
       "      <th>2016-06-03</th>\n",
       "      <td>0.002045</td>\n",
       "      <td>-0.011628</td>\n",
       "      <td>0.015168</td>\n",
       "      <td>0.006199</td>\n",
       "      <td>0.008009</td>\n",
       "      <td>0.002021</td>\n",
       "      <td>-0.000970</td>\n",
       "      <td>-0.002992</td>\n",
       "      <td>0.000137</td>\n",
       "      <td>-0.004074</td>\n",
       "      <td>-0.004735</td>\n",
       "      <td>-0.004824</td>\n",
       "      <td>0.001929</td>\n",
       "    </tr>\n",
       "    <tr>\n",
       "      <th>2016-06-06</th>\n",
       "      <td>0.007225</td>\n",
       "      <td>0.001947</td>\n",
       "      <td>0.010570</td>\n",
       "      <td>-0.001933</td>\n",
       "      <td>-0.002413</td>\n",
       "      <td>0.010046</td>\n",
       "      <td>0.014309</td>\n",
       "      <td>0.005076</td>\n",
       "      <td>0.007688</td>\n",
       "      <td>0.005492</td>\n",
       "      <td>0.001778</td>\n",
       "      <td>0.009803</td>\n",
       "      <td>0.000000</td>\n",
       "    </tr>\n",
       "  </tbody>\n",
       "</table>\n",
       "</div>"
      ],
      "text/plain": [
       "                AAPL      CROX       EEM      GOVT       LQD       MMM  \\\n",
       "Date                                                                     \n",
       "2016-05-31       NaN       NaN       NaN       NaN       NaN       NaN   \n",
       "2016-06-01 -0.014119  0.050531 -0.000604 -0.001947 -0.002096  0.002196   \n",
       "2016-06-02 -0.007544  0.002894  0.008124  0.002724  0.002012 -0.003861   \n",
       "2016-06-03  0.002045 -0.011628  0.015168  0.006199  0.008009  0.002021   \n",
       "2016-06-06  0.007225  0.001947  0.010570 -0.001933 -0.002413  0.010046   \n",
       "\n",
       "                 MMP       SPY      TSLA     VIMAX      VIXM     VSMAX  \\\n",
       "Date                                                                     \n",
       "2016-05-31       NaN       NaN       NaN       NaN       NaN       NaN   \n",
       "2016-06-01  0.022863  0.002047 -0.016577  0.002404 -0.007225  0.005579   \n",
       "2016-06-02  0.007783  0.003039 -0.002736  0.005824 -0.004320  0.006797   \n",
       "2016-06-03 -0.000970 -0.002992  0.000137 -0.004074 -0.004735 -0.004824   \n",
       "2016-06-06  0.014309  0.005076  0.007688  0.005492  0.001778  0.009803   \n",
       "\n",
       "               VTEAX  \n",
       "Date                  \n",
       "2016-05-31       NaN  \n",
       "2016-06-01  0.000000  \n",
       "2016-06-02  0.000483  \n",
       "2016-06-03  0.001929  \n",
       "2016-06-06  0.000000  "
      ]
     },
     "execution_count": 135,
     "metadata": {},
     "output_type": "execute_result"
    }
   ],
   "source": [
    "# calculate daily returns from Close prices with panda's pct_change()\n",
    "returns = prices['Close'].pct_change()\n",
    "\n",
    "log_returns = np.log(returns + 1)\n",
    "\n",
    "log_returns.head()"
   ]
  },
  {
   "cell_type": "code",
   "execution_count": 136,
   "metadata": {},
   "outputs": [
    {
     "data": {
      "text/html": [
       "<div>\n",
       "<style scoped>\n",
       "    .dataframe tbody tr th:only-of-type {\n",
       "        vertical-align: middle;\n",
       "    }\n",
       "\n",
       "    .dataframe tbody tr th {\n",
       "        vertical-align: top;\n",
       "    }\n",
       "\n",
       "    .dataframe thead th {\n",
       "        text-align: right;\n",
       "    }\n",
       "</style>\n",
       "<table border=\"1\" class=\"dataframe\">\n",
       "  <thead>\n",
       "    <tr style=\"text-align: right;\">\n",
       "      <th></th>\n",
       "      <th>AAPL</th>\n",
       "      <th>CROX</th>\n",
       "      <th>EEM</th>\n",
       "      <th>GOVT</th>\n",
       "      <th>LQD</th>\n",
       "      <th>MMM</th>\n",
       "      <th>MMP</th>\n",
       "      <th>SPY</th>\n",
       "      <th>TSLA</th>\n",
       "      <th>VIMAX</th>\n",
       "      <th>VIXM</th>\n",
       "      <th>VSMAX</th>\n",
       "      <th>VTEAX</th>\n",
       "    </tr>\n",
       "    <tr>\n",
       "      <th>Date</th>\n",
       "      <th></th>\n",
       "      <th></th>\n",
       "      <th></th>\n",
       "      <th></th>\n",
       "      <th></th>\n",
       "      <th></th>\n",
       "      <th></th>\n",
       "      <th></th>\n",
       "      <th></th>\n",
       "      <th></th>\n",
       "      <th></th>\n",
       "      <th></th>\n",
       "      <th></th>\n",
       "    </tr>\n",
       "  </thead>\n",
       "  <tbody>\n",
       "    <tr>\n",
       "      <th>2021-05-24</th>\n",
       "      <td>0.013226</td>\n",
       "      <td>0.033834</td>\n",
       "      <td>0.008246</td>\n",
       "      <td>0.000759</td>\n",
       "      <td>0.002740</td>\n",
       "      <td>0.003709</td>\n",
       "      <td>0.015413</td>\n",
       "      <td>0.010143</td>\n",
       "      <td>0.043062</td>\n",
       "      <td>0.008842</td>\n",
       "      <td>-0.031692</td>\n",
       "      <td>0.006107</td>\n",
       "      <td>0.000454</td>\n",
       "    </tr>\n",
       "    <tr>\n",
       "      <th>2021-05-25</th>\n",
       "      <td>-0.001575</td>\n",
       "      <td>0.015676</td>\n",
       "      <td>0.009843</td>\n",
       "      <td>0.002653</td>\n",
       "      <td>0.003717</td>\n",
       "      <td>-0.004452</td>\n",
       "      <td>-0.023828</td>\n",
       "      <td>-0.002221</td>\n",
       "      <td>-0.002890</td>\n",
       "      <td>-0.004079</td>\n",
       "      <td>0.008689</td>\n",
       "      <td>-0.006873</td>\n",
       "      <td>0.000908</td>\n",
       "    </tr>\n",
       "    <tr>\n",
       "      <th>2021-05-26</th>\n",
       "      <td>-0.000394</td>\n",
       "      <td>0.037357</td>\n",
       "      <td>0.007365</td>\n",
       "      <td>-0.000757</td>\n",
       "      <td>-0.000530</td>\n",
       "      <td>-0.000645</td>\n",
       "      <td>0.007188</td>\n",
       "      <td>0.001983</td>\n",
       "      <td>0.023599</td>\n",
       "      <td>0.005574</td>\n",
       "      <td>-0.025991</td>\n",
       "      <td>0.013037</td>\n",
       "      <td>0.000907</td>\n",
       "    </tr>\n",
       "    <tr>\n",
       "      <th>2021-05-27</th>\n",
       "      <td>-0.012454</td>\n",
       "      <td>-0.053819</td>\n",
       "      <td>0.000183</td>\n",
       "      <td>-0.000379</td>\n",
       "      <td>-0.003035</td>\n",
       "      <td>0.008201</td>\n",
       "      <td>0.005306</td>\n",
       "      <td>0.000525</td>\n",
       "      <td>0.018753</td>\n",
       "      <td>0.004091</td>\n",
       "      <td>-0.019790</td>\n",
       "      <td>0.008754</td>\n",
       "      <td>0.000000</td>\n",
       "    </tr>\n",
       "    <tr>\n",
       "      <th>2021-05-28</th>\n",
       "      <td>-0.002718</td>\n",
       "      <td>-0.007987</td>\n",
       "      <td>0.007856</td>\n",
       "      <td>-0.000189</td>\n",
       "      <td>0.001556</td>\n",
       "      <td>-0.000098</td>\n",
       "      <td>0.003048</td>\n",
       "      <td>0.002763</td>\n",
       "      <td>0.000634</td>\n",
       "      <td>0.000000</td>\n",
       "      <td>-0.008153</td>\n",
       "      <td>0.000000</td>\n",
       "      <td>0.000000</td>\n",
       "    </tr>\n",
       "  </tbody>\n",
       "</table>\n",
       "</div>"
      ],
      "text/plain": [
       "                AAPL      CROX       EEM      GOVT       LQD       MMM  \\\n",
       "Date                                                                     \n",
       "2021-05-24  0.013226  0.033834  0.008246  0.000759  0.002740  0.003709   \n",
       "2021-05-25 -0.001575  0.015676  0.009843  0.002653  0.003717 -0.004452   \n",
       "2021-05-26 -0.000394  0.037357  0.007365 -0.000757 -0.000530 -0.000645   \n",
       "2021-05-27 -0.012454 -0.053819  0.000183 -0.000379 -0.003035  0.008201   \n",
       "2021-05-28 -0.002718 -0.007987  0.007856 -0.000189  0.001556 -0.000098   \n",
       "\n",
       "                 MMP       SPY      TSLA     VIMAX      VIXM     VSMAX  \\\n",
       "Date                                                                     \n",
       "2021-05-24  0.015413  0.010143  0.043062  0.008842 -0.031692  0.006107   \n",
       "2021-05-25 -0.023828 -0.002221 -0.002890 -0.004079  0.008689 -0.006873   \n",
       "2021-05-26  0.007188  0.001983  0.023599  0.005574 -0.025991  0.013037   \n",
       "2021-05-27  0.005306  0.000525  0.018753  0.004091 -0.019790  0.008754   \n",
       "2021-05-28  0.003048  0.002763  0.000634  0.000000 -0.008153  0.000000   \n",
       "\n",
       "               VTEAX  \n",
       "Date                  \n",
       "2021-05-24  0.000454  \n",
       "2021-05-25  0.000908  \n",
       "2021-05-26  0.000907  \n",
       "2021-05-27  0.000000  \n",
       "2021-05-28  0.000000  "
      ]
     },
     "execution_count": 136,
     "metadata": {},
     "output_type": "execute_result"
    }
   ],
   "source": [
    "log_returns.tail()"
   ]
  },
  {
   "cell_type": "code",
   "execution_count": 235,
   "metadata": {},
   "outputs": [
    {
     "data": {
      "text/plain": [
       "AAPL     0.019084\n",
       "CROX     0.035586\n",
       "EEM      0.013993\n",
       "GOVT     0.002737\n",
       "LQD      0.005519\n",
       "MMM      0.015677\n",
       "MMP      0.018732\n",
       "SPY      0.011947\n",
       "TSLA     0.037239\n",
       "VIMAX    0.012831\n",
       "VIXM     0.021634\n",
       "VSMAX    0.014285\n",
       "VTEAX    0.002370\n",
       "dtype: float64"
      ]
     },
     "execution_count": 235,
     "metadata": {},
     "output_type": "execute_result"
    }
   ],
   "source": [
    "log_returns.std()"
   ]
  },
  {
   "cell_type": "code",
   "execution_count": 236,
   "metadata": {},
   "outputs": [
    {
     "data": {
      "text/plain": [
       "AAPL     0.001280\n",
       "CROX     0.001851\n",
       "EEM      0.000402\n",
       "GOVT     0.000021\n",
       "LQD      0.000079\n",
       "MMM      0.000150\n",
       "MMP     -0.000280\n",
       "SPY      0.000552\n",
       "TSLA     0.002106\n",
       "VIMAX    0.000502\n",
       "VIXM    -0.000383\n",
       "VSMAX    0.000521\n",
       "VTEAX    0.000050\n",
       "dtype: float64"
      ]
     },
     "execution_count": 236,
     "metadata": {},
     "output_type": "execute_result"
    }
   ],
   "source": [
    "log_returns.mean()"
   ]
  },
  {
   "cell_type": "markdown",
   "metadata": {},
   "source": [
    "Now we're going to grab the crypto data. We'll treat it seperately because it has a different timeframe."
   ]
  },
  {
   "cell_type": "code",
   "execution_count": 138,
   "metadata": {},
   "outputs": [],
   "source": [
    "# get crypto data from binance via ccxt\n",
    "exchange = getattr (ccxt, 'binance') () # create exchange connection\n",
    "\n",
    "crypto = pd.DataFrame(index=pd.date_range(start=returns.index[0],\n",
    "                                          end=returns.index[-1],\n",
    "                                          freq='1d'\n",
    "                                         )\n",
    "                     ) # create an empty dataframe to collate our cypto tickers\n",
    "\n",
    "# we need to grab ohlc data one ticker at a time\n",
    "for c in crypto_tickers:\n",
    "    \n",
    "    # binance only lets us pull 500 records at a time, for a given interval parameter, but we can pull recursively\n",
    "    # binance also only offers daily data back to 2018-05-29\n",
    "    # so we'll start there and loop over a fetch_ohlc-append routine until we've grabbed all binance's daily ohlc data for crypto_ticker c\n",
    "    \n",
    "    initial_timestamp = 1527552000000 # first daily timestamp binance will serve as of 5/28/2021\n",
    "    \n",
    "    coin = pd.DataFrame(exchange.fetch_ohlcv(c, \n",
    "                                             '1d', \n",
    "                                             since=initial_timestamp\n",
    "                                            ), \n",
    "                        columns=['Timestamp', 'Open', 'High','Low','Close','Volume'])\n",
    "    \n",
    "    records = len(coin)\n",
    "    \n",
    "    while records == 500:   \n",
    "        # we'll loop fetch_ohlc and coin.append until our fetch_ohlcv returns < 500 records, in which case we've caught up to the current date\n",
    "        \n",
    "        next_pull = pd.DataFrame(exchange.fetch_ohlcv(c, \n",
    "                                                 '1d', \n",
    "                                                 since=int(coin.loc[coin.index[-1],'Timestamp'])\n",
    "                                                ), \n",
    "                            columns=['Timestamp', 'Open', 'High','Low','Close','Volume'])\n",
    "        \n",
    "        coin = coin.append(next_pull, ignore_index=True)\n",
    "        \n",
    "        records = len(next_pull)\n",
    "    \n",
    "    # convert from timestamp (ms) to utc datetime\n",
    "    coin.index = (coin['Timestamp'] / 1000).apply(datetime.utcfromtimestamp)\n",
    "    \n",
    "    # join onto crypto's datetime index\n",
    "    crypto = crypto.join(coin['Close'].rename(c))\n",
    "\n",
    "crypto = crypto[crypto.first_valid_index():] # drop the records at the beginning of our dataframe with all NaN\n",
    "\n",
    "# calculate the daily returns & log_returns\n",
    "crypto_returns = crypto.pct_change()\n",
    "crypto_log_returns = np.log(crypto_returns + 1)"
   ]
  },
  {
   "cell_type": "code",
   "execution_count": 141,
   "metadata": {},
   "outputs": [
    {
     "data": {
      "text/plain": [
       "<matplotlib.axes._subplots.AxesSubplot at 0x1a9f9e37e10>"
      ]
     },
     "execution_count": 141,
     "metadata": {},
     "output_type": "execute_result"
    },
    {
     "data": {
      "image/png": "[encoded data removed]",
      "text/plain": [
       "<Figure size 432x288 with 1 Axes>"
      ]
     },
     "metadata": {
      "needs_background": "light"
     },
     "output_type": "display_data"
    }
   ],
   "source": [
    "crypto.plot()"
   ]
  },
  {
   "cell_type": "code",
   "execution_count": 142,
   "metadata": {},
   "outputs": [
    {
     "data": {
      "text/html": [
       "<div>\n",
       "<style scoped>\n",
       "    .dataframe tbody tr th:only-of-type {\n",
       "        vertical-align: middle;\n",
       "    }\n",
       "\n",
       "    .dataframe tbody tr th {\n",
       "        vertical-align: top;\n",
       "    }\n",
       "\n",
       "    .dataframe thead th {\n",
       "        text-align: right;\n",
       "    }\n",
       "</style>\n",
       "<table border=\"1\" class=\"dataframe\">\n",
       "  <thead>\n",
       "    <tr style=\"text-align: right;\">\n",
       "      <th></th>\n",
       "      <th>BTC/USDT</th>\n",
       "      <th>ETH/USDT</th>\n",
       "      <th>BNB/USDT</th>\n",
       "    </tr>\n",
       "  </thead>\n",
       "  <tbody>\n",
       "    <tr>\n",
       "      <th>2018-05-29</th>\n",
       "      <td>NaN</td>\n",
       "      <td>NaN</td>\n",
       "      <td>NaN</td>\n",
       "    </tr>\n",
       "    <tr>\n",
       "      <th>2018-05-30</th>\n",
       "      <td>-0.011502</td>\n",
       "      <td>-0.018088</td>\n",
       "      <td>0.000999</td>\n",
       "    </tr>\n",
       "    <tr>\n",
       "      <th>2018-05-31</th>\n",
       "      <td>0.014676</td>\n",
       "      <td>0.036339</td>\n",
       "      <td>0.117967</td>\n",
       "    </tr>\n",
       "    <tr>\n",
       "      <th>2018-06-01</th>\n",
       "      <td>0.004798</td>\n",
       "      <td>0.002057</td>\n",
       "      <td>0.006234</td>\n",
       "    </tr>\n",
       "    <tr>\n",
       "      <th>2018-06-02</th>\n",
       "      <td>0.015701</td>\n",
       "      <td>0.020260</td>\n",
       "      <td>0.026547</td>\n",
       "    </tr>\n",
       "  </tbody>\n",
       "</table>\n",
       "</div>"
      ],
      "text/plain": [
       "            BTC/USDT  ETH/USDT  BNB/USDT\n",
       "2018-05-29       NaN       NaN       NaN\n",
       "2018-05-30 -0.011502 -0.018088  0.000999\n",
       "2018-05-31  0.014676  0.036339  0.117967\n",
       "2018-06-01  0.004798  0.002057  0.006234\n",
       "2018-06-02  0.015701  0.020260  0.026547"
      ]
     },
     "execution_count": 142,
     "metadata": {},
     "output_type": "execute_result"
    }
   ],
   "source": [
    "crypto_log_returns.head()"
   ]
  },
  {
   "cell_type": "code",
   "execution_count": 143,
   "metadata": {},
   "outputs": [
    {
     "data": {
      "text/html": [
       "<div>\n",
       "<style scoped>\n",
       "    .dataframe tbody tr th:only-of-type {\n",
       "        vertical-align: middle;\n",
       "    }\n",
       "\n",
       "    .dataframe tbody tr th {\n",
       "        vertical-align: top;\n",
       "    }\n",
       "\n",
       "    .dataframe thead th {\n",
       "        text-align: right;\n",
       "    }\n",
       "</style>\n",
       "<table border=\"1\" class=\"dataframe\">\n",
       "  <thead>\n",
       "    <tr style=\"text-align: right;\">\n",
       "      <th></th>\n",
       "      <th>BTC/USDT</th>\n",
       "      <th>ETH/USDT</th>\n",
       "      <th>BNB/USDT</th>\n",
       "    </tr>\n",
       "  </thead>\n",
       "  <tbody>\n",
       "    <tr>\n",
       "      <th>2021-05-24</th>\n",
       "      <td>0.112875</td>\n",
       "      <td>0.233750</td>\n",
       "      <td>0.281951</td>\n",
       "    </tr>\n",
       "    <tr>\n",
       "      <th>2021-05-25</th>\n",
       "      <td>-0.012230</td>\n",
       "      <td>0.021176</td>\n",
       "      <td>-0.007143</td>\n",
       "    </tr>\n",
       "    <tr>\n",
       "      <th>2021-05-26</th>\n",
       "      <td>0.023650</td>\n",
       "      <td>0.064362</td>\n",
       "      <td>0.099703</td>\n",
       "    </tr>\n",
       "    <tr>\n",
       "      <th>2021-05-27</th>\n",
       "      <td>-0.018309</td>\n",
       "      <td>-0.050733</td>\n",
       "      <td>-0.025348</td>\n",
       "    </tr>\n",
       "    <tr>\n",
       "      <th>2021-05-28</th>\n",
       "      <td>-0.085175</td>\n",
       "      <td>-0.111284</td>\n",
       "      <td>-0.126082</td>\n",
       "    </tr>\n",
       "  </tbody>\n",
       "</table>\n",
       "</div>"
      ],
      "text/plain": [
       "            BTC/USDT  ETH/USDT  BNB/USDT\n",
       "2021-05-24  0.112875  0.233750  0.281951\n",
       "2021-05-25 -0.012230  0.021176 -0.007143\n",
       "2021-05-26  0.023650  0.064362  0.099703\n",
       "2021-05-27 -0.018309 -0.050733 -0.025348\n",
       "2021-05-28 -0.085175 -0.111284 -0.126082"
      ]
     },
     "execution_count": 143,
     "metadata": {},
     "output_type": "execute_result"
    }
   ],
   "source": [
    "crypto_log_returns.tail()"
   ]
  },
  {
   "cell_type": "markdown",
   "metadata": {},
   "source": [
    "### Analyzing the data\n",
    "\n",
    "Let's create a simple function to run Rosso et al's method on these datasets. We could, if we wanted to add additional parameters/options such as alternative entropy or divergence measures, create a class to facilitate passing certain data, but this is straight-forward enough that it doesn't warrant the boilerplate.\n",
    "\n",
    "We'll pseudo-vectorize the funtion so we can simply pass it the entire time series dataframe, and have it output a dataframe with columns excess entropy and complexity for each financial instrument."
   ]
  },
  {
   "cell_type": "code",
   "execution_count": 296,
   "metadata": {},
   "outputs": [],
   "source": [
    "def entropy_complexity(time_series, window=3, diagnostic=False):\n",
    "    time_series = pd.DataFrame(time_series)\n",
    "    \n",
    "    results = pd.DataFrame(columns=['Excess Entropy', 'Complexity'])\n",
    "    \n",
    "    if diagnostic:\n",
    "        results_prob = {}\n",
    "        results_slices = {}\n",
    "        results_orders = {}\n",
    "    \n",
    "    \n",
    "    ordinal_values = list(range(1,window + 1))\n",
    "    permutations = pd.Series(itertools.permutations(ordinal_values))\n",
    "    \n",
    "    for c in time_series.columns:\n",
    "        print(c)\n",
    "        slices = list(zip(*[time_series[c].dropna().values[i:].tolist() for i in range(window)]))\n",
    " \n",
    "        orders = pd.Series([tuple(scipy.stats.rankdata(s, method='ordinal')) for s in slices], name=c)\n",
    "\n",
    "        frequencies = pd.value_counts(orders)\n",
    "        \n",
    "        probabilities = pd.DataFrame(index=permutations).join(frequencies.rename('Frequencies')).fillna(0)\n",
    "        probabilities['Probabilities'] = probabilities['Frequencies'] / len(slices)\n",
    "        probabilities['Uniform'] = 1 / len(probabilities.index)\n",
    "        \n",
    "        maximum_entropy = scipy.stats.entropy(probabilities['Uniform'], base=2)\n",
    "        entropy = scipy.stats.entropy(probabilities['Probabilities'], base=2)\n",
    "        \n",
    "        excess_entropy = entropy / maximum_entropy\n",
    "\n",
    "        divergence = 0.5 * (scipy.stats.entropy((probabilities['Probabilities'] + probabilities['Uniform']) / 2, base=2) \\\n",
    "                        - (scipy.stats.entropy(probabilities['Probabilities'], base=2) / 2) \\\n",
    "                        - (scipy.stats.entropy(probabilities['Uniform'], base=2) / 2))\n",
    "        complexity = excess_entropy * divergence\n",
    "        \n",
    "        results.loc[c] = [excess_entropy, complexity]\n",
    "        \n",
    "        if diagnostic:\n",
    "            results_prob[c] = probabilities\n",
    "            results_slices[c] = slices\n",
    "            results_orders[c] = orders\n",
    "        \n",
    "    if diagnostic:\n",
    "        return results, results_prob, results_slices, results_orders\n",
    "    else:\n",
    "        return results"
   ]
  },
  {
   "cell_type": "markdown",
   "metadata": {},
   "source": [
    "It's nice to verify this function works as intended with a known toy example, from above..."
   ]
  },
  {
   "cell_type": "code",
   "execution_count": 299,
   "metadata": {},
   "outputs": [
    {
     "name": "stdout",
     "output_type": "stream",
     "text": [
      "0\n",
      "   Excess Entropy  Complexity\n",
      "0        0.588762    0.094939\n"
     ]
    },
    {
     "data": {
      "text/plain": [
       "{0:            Frequencies  Probabilities   Uniform\n",
       " (1, 2, 3)          2.0            0.4  0.166667\n",
       " (1, 3, 2)          0.0            0.0  0.166667\n",
       " (2, 1, 3)          1.0            0.2  0.166667\n",
       " (2, 3, 1)          2.0            0.4  0.166667\n",
       " (3, 1, 2)          0.0            0.0  0.166667\n",
       " (3, 2, 1)          0.0            0.0  0.166667}"
      ]
     },
     "execution_count": 299,
     "metadata": {},
     "output_type": "execute_result"
    }
   ],
   "source": [
    "results_toy, resprob_toy, resslice_toy, resord_toy = entropy_complexity(time_series,diagnostic=True)\n",
    "print(results_toy)\n",
    "resprob_toy"
   ]
  },
  {
   "cell_type": "markdown",
   "metadata": {},
   "source": [
    "Run on our real financial data and combine results..."
   ]
  },
  {
   "cell_type": "code",
   "execution_count": 195,
   "metadata": {},
   "outputs": [
    {
     "data": {
      "text/html": [
       "<div>\n",
       "<style scoped>\n",
       "    .dataframe tbody tr th:only-of-type {\n",
       "        vertical-align: middle;\n",
       "    }\n",
       "\n",
       "    .dataframe tbody tr th {\n",
       "        vertical-align: top;\n",
       "    }\n",
       "\n",
       "    .dataframe thead th {\n",
       "        text-align: right;\n",
       "    }\n",
       "</style>\n",
       "<table border=\"1\" class=\"dataframe\">\n",
       "  <thead>\n",
       "    <tr style=\"text-align: right;\">\n",
       "      <th></th>\n",
       "      <th>Excess Entropy</th>\n",
       "      <th>Complexity</th>\n",
       "    </tr>\n",
       "  </thead>\n",
       "  <tbody>\n",
       "    <tr>\n",
       "      <th>AAPL</th>\n",
       "      <td>0.999539</td>\n",
       "      <td>0.000150</td>\n",
       "    </tr>\n",
       "    <tr>\n",
       "      <th>CROX</th>\n",
       "      <td>0.998380</td>\n",
       "      <td>0.000525</td>\n",
       "    </tr>\n",
       "    <tr>\n",
       "      <th>EEM</th>\n",
       "      <td>0.998474</td>\n",
       "      <td>0.000493</td>\n",
       "    </tr>\n",
       "    <tr>\n",
       "      <th>GOVT</th>\n",
       "      <td>0.998944</td>\n",
       "      <td>0.000341</td>\n",
       "    </tr>\n",
       "    <tr>\n",
       "      <th>LQD</th>\n",
       "      <td>0.999596</td>\n",
       "      <td>0.000131</td>\n",
       "    </tr>\n",
       "    <tr>\n",
       "      <th>MMM</th>\n",
       "      <td>0.998406</td>\n",
       "      <td>0.000515</td>\n",
       "    </tr>\n",
       "    <tr>\n",
       "      <th>MMP</th>\n",
       "      <td>0.998009</td>\n",
       "      <td>0.000644</td>\n",
       "    </tr>\n",
       "    <tr>\n",
       "      <th>SPY</th>\n",
       "      <td>0.998353</td>\n",
       "      <td>0.000541</td>\n",
       "    </tr>\n",
       "    <tr>\n",
       "      <th>TSLA</th>\n",
       "      <td>0.999763</td>\n",
       "      <td>0.000076</td>\n",
       "    </tr>\n",
       "    <tr>\n",
       "      <th>VIMAX</th>\n",
       "      <td>0.997447</td>\n",
       "      <td>0.000843</td>\n",
       "    </tr>\n",
       "    <tr>\n",
       "      <th>VIXM</th>\n",
       "      <td>0.998736</td>\n",
       "      <td>0.000408</td>\n",
       "    </tr>\n",
       "    <tr>\n",
       "      <th>VSMAX</th>\n",
       "      <td>0.998454</td>\n",
       "      <td>0.000505</td>\n",
       "    </tr>\n",
       "    <tr>\n",
       "      <th>VTEAX</th>\n",
       "      <td>0.989689</td>\n",
       "      <td>0.003258</td>\n",
       "    </tr>\n",
       "    <tr>\n",
       "      <th>BTC/USDT</th>\n",
       "      <td>0.998866</td>\n",
       "      <td>0.000365</td>\n",
       "    </tr>\n",
       "    <tr>\n",
       "      <th>ETH/USDT</th>\n",
       "      <td>0.999002</td>\n",
       "      <td>0.000324</td>\n",
       "    </tr>\n",
       "    <tr>\n",
       "      <th>BNB/USDT</th>\n",
       "      <td>0.999363</td>\n",
       "      <td>0.000205</td>\n",
       "    </tr>\n",
       "  </tbody>\n",
       "</table>\n",
       "</div>"
      ],
      "text/plain": [
       "          Excess Entropy  Complexity\n",
       "AAPL            0.999539    0.000150\n",
       "CROX            0.998380    0.000525\n",
       "EEM             0.998474    0.000493\n",
       "GOVT            0.998944    0.000341\n",
       "LQD             0.999596    0.000131\n",
       "MMM             0.998406    0.000515\n",
       "MMP             0.998009    0.000644\n",
       "SPY             0.998353    0.000541\n",
       "TSLA            0.999763    0.000076\n",
       "VIMAX           0.997447    0.000843\n",
       "VIXM            0.998736    0.000408\n",
       "VSMAX           0.998454    0.000505\n",
       "VTEAX           0.989689    0.003258\n",
       "BTC/USDT        0.998866    0.000365\n",
       "ETH/USDT        0.999002    0.000324\n",
       "BNB/USDT        0.999363    0.000205"
      ]
     },
     "execution_count": 195,
     "metadata": {},
     "output_type": "execute_result"
    }
   ],
   "source": [
    "equity_results = entropy_complexity(log_returns)\n",
    "crypto_results = entropy_complexity(crypto_log_returns)\n",
    "\n",
    "results = equity_results.append(crypto_results)\n",
    "\n",
    "results"
   ]
  },
  {
   "cell_type": "markdown",
   "metadata": {},
   "source": [
    "Now let's plot these results:"
   ]
  },
  {
   "cell_type": "code",
   "execution_count": 226,
   "metadata": {},
   "outputs": [],
   "source": [
    "# i want to grab the sector type for plot markers\n",
    "ticker_info = pd.DataFrame([['Large Equity','S&P 500 ETF','SPY','o', 'r'],\n",
    "                ['Large Equity','Apple','AAPL','o', 'b'],\n",
    "                ['Large Equity','Tesla','TSLA','o', 'g'],\n",
    "                ['Large Equity','3M','MMM','o','y'],\n",
    "                ['Mid Equity','Vanguard MidCap MF','VIMAX','.','m'],\n",
    "                ['Mid Equity','Crocks','CROX', '.','c'],\n",
    "                ['Mid Equity','Magellan Midstream','MMP','.','k'],\n",
    "                ['Small Equity','Vanguard Small Cap MF','VSMAX',',','k'], \n",
    "                ['Emerging Markets','iShares MSCI Emerging Markets ETF','EEM','1','r'],\n",
    "                ['Bonds','iShares US Treasury Bonds ETF','GOVT','s','b'],\n",
    "                ['Bonds','iShares Corporate Bond ETF','LQD','s','g'],\n",
    "                ['Bonds','Vanguard Tax-Exempt Bond Index','VTEAX','s','r'],\n",
    "                ['Derivatives','ProShares VIX Mid-Term Futures ETF','VIXM','*','m'],\n",
    "                ['Crypto','Bitcoin','BTC/USDT','D','c'],\n",
    "                ['Crypto','Etherium','ETH/USDT','D','m'],\n",
    "                ['Crypto','BinanceCoin','BNB/USDT','D','y']],\n",
    "            columns=['Sector', 'Description', 'Ticker', 'Marker','Color'])\n",
    "ticker_info.index = ticker_info['Ticker']"
   ]
  },
  {
   "cell_type": "code",
   "execution_count": 227,
   "metadata": {},
   "outputs": [
    {
     "data": {
      "text/html": [
       "<div>\n",
       "<style scoped>\n",
       "    .dataframe tbody tr th:only-of-type {\n",
       "        vertical-align: middle;\n",
       "    }\n",
       "\n",
       "    .dataframe tbody tr th {\n",
       "        vertical-align: top;\n",
       "    }\n",
       "\n",
       "    .dataframe thead th {\n",
       "        text-align: right;\n",
       "    }\n",
       "</style>\n",
       "<table border=\"1\" class=\"dataframe\">\n",
       "  <thead>\n",
       "    <tr style=\"text-align: right;\">\n",
       "      <th></th>\n",
       "      <th>Sector</th>\n",
       "      <th>Description</th>\n",
       "      <th>Ticker</th>\n",
       "      <th>Marker</th>\n",
       "      <th>Color</th>\n",
       "    </tr>\n",
       "    <tr>\n",
       "      <th>Ticker</th>\n",
       "      <th></th>\n",
       "      <th></th>\n",
       "      <th></th>\n",
       "      <th></th>\n",
       "      <th></th>\n",
       "    </tr>\n",
       "  </thead>\n",
       "  <tbody>\n",
       "    <tr>\n",
       "      <th>SPY</th>\n",
       "      <td>Large Equity</td>\n",
       "      <td>S&amp;P 500 ETF</td>\n",
       "      <td>SPY</td>\n",
       "      <td>o</td>\n",
       "      <td>r</td>\n",
       "    </tr>\n",
       "    <tr>\n",
       "      <th>AAPL</th>\n",
       "      <td>Large Equity</td>\n",
       "      <td>Apple</td>\n",
       "      <td>AAPL</td>\n",
       "      <td>o</td>\n",
       "      <td>b</td>\n",
       "    </tr>\n",
       "    <tr>\n",
       "      <th>TSLA</th>\n",
       "      <td>Large Equity</td>\n",
       "      <td>Tesla</td>\n",
       "      <td>TSLA</td>\n",
       "      <td>o</td>\n",
       "      <td>g</td>\n",
       "    </tr>\n",
       "    <tr>\n",
       "      <th>MMM</th>\n",
       "      <td>Large Equity</td>\n",
       "      <td>3M</td>\n",
       "      <td>MMM</td>\n",
       "      <td>o</td>\n",
       "      <td>y</td>\n",
       "    </tr>\n",
       "    <tr>\n",
       "      <th>VIMAX</th>\n",
       "      <td>Mid Equity</td>\n",
       "      <td>Vanguard MidCap MF</td>\n",
       "      <td>VIMAX</td>\n",
       "      <td>.</td>\n",
       "      <td>m</td>\n",
       "    </tr>\n",
       "    <tr>\n",
       "      <th>CROX</th>\n",
       "      <td>Mid Equity</td>\n",
       "      <td>Crocks</td>\n",
       "      <td>CROX</td>\n",
       "      <td>.</td>\n",
       "      <td>c</td>\n",
       "    </tr>\n",
       "    <tr>\n",
       "      <th>MMP</th>\n",
       "      <td>Mid Equity</td>\n",
       "      <td>Magellan Midstream</td>\n",
       "      <td>MMP</td>\n",
       "      <td>.</td>\n",
       "      <td>k</td>\n",
       "    </tr>\n",
       "    <tr>\n",
       "      <th>VSMAX</th>\n",
       "      <td>Small Equity</td>\n",
       "      <td>Vanguard Small Cap MF</td>\n",
       "      <td>VSMAX</td>\n",
       "      <td>,</td>\n",
       "      <td>k</td>\n",
       "    </tr>\n",
       "    <tr>\n",
       "      <th>EEM</th>\n",
       "      <td>Emerging Markets</td>\n",
       "      <td>iShares MSCI Emerging Markets ETF</td>\n",
       "      <td>EEM</td>\n",
       "      <td>1</td>\n",
       "      <td>r</td>\n",
       "    </tr>\n",
       "    <tr>\n",
       "      <th>GOVT</th>\n",
       "      <td>Bonds</td>\n",
       "      <td>iShares US Treasury Bonds ETF</td>\n",
       "      <td>GOVT</td>\n",
       "      <td>s</td>\n",
       "      <td>b</td>\n",
       "    </tr>\n",
       "    <tr>\n",
       "      <th>LQD</th>\n",
       "      <td>Bonds</td>\n",
       "      <td>iShares Corporate Bond ETF</td>\n",
       "      <td>LQD</td>\n",
       "      <td>s</td>\n",
       "      <td>g</td>\n",
       "    </tr>\n",
       "    <tr>\n",
       "      <th>VTEAX</th>\n",
       "      <td>Bonds</td>\n",
       "      <td>Vanguard Tax-Exempt Bond Index</td>\n",
       "      <td>VTEAX</td>\n",
       "      <td>s</td>\n",
       "      <td>r</td>\n",
       "    </tr>\n",
       "    <tr>\n",
       "      <th>VIXM</th>\n",
       "      <td>Derivatives</td>\n",
       "      <td>ProShares VIX Mid-Term Futures ETF</td>\n",
       "      <td>VIXM</td>\n",
       "      <td>*</td>\n",
       "      <td>m</td>\n",
       "    </tr>\n",
       "    <tr>\n",
       "      <th>BTC/USDT</th>\n",
       "      <td>Crypto</td>\n",
       "      <td>Bitcoin</td>\n",
       "      <td>BTC/USDT</td>\n",
       "      <td>D</td>\n",
       "      <td>c</td>\n",
       "    </tr>\n",
       "    <tr>\n",
       "      <th>ETH/USDT</th>\n",
       "      <td>Crypto</td>\n",
       "      <td>Etherium</td>\n",
       "      <td>ETH/USDT</td>\n",
       "      <td>D</td>\n",
       "      <td>m</td>\n",
       "    </tr>\n",
       "    <tr>\n",
       "      <th>BNB/USDT</th>\n",
       "      <td>Crypto</td>\n",
       "      <td>BinanceCoin</td>\n",
       "      <td>BNB/USDT</td>\n",
       "      <td>D</td>\n",
       "      <td>y</td>\n",
       "    </tr>\n",
       "  </tbody>\n",
       "</table>\n",
       "</div>"
      ],
      "text/plain": [
       "                    Sector                         Description    Ticker  \\\n",
       "Ticker                                                                     \n",
       "SPY           Large Equity                         S&P 500 ETF       SPY   \n",
       "AAPL          Large Equity                               Apple      AAPL   \n",
       "TSLA          Large Equity                               Tesla      TSLA   \n",
       "MMM           Large Equity                                  3M       MMM   \n",
       "VIMAX           Mid Equity                  Vanguard MidCap MF     VIMAX   \n",
       "CROX            Mid Equity                              Crocks      CROX   \n",
       "MMP             Mid Equity                  Magellan Midstream       MMP   \n",
       "VSMAX         Small Equity               Vanguard Small Cap MF     VSMAX   \n",
       "EEM       Emerging Markets   iShares MSCI Emerging Markets ETF       EEM   \n",
       "GOVT                 Bonds       iShares US Treasury Bonds ETF      GOVT   \n",
       "LQD                  Bonds          iShares Corporate Bond ETF       LQD   \n",
       "VTEAX                Bonds      Vanguard Tax-Exempt Bond Index     VTEAX   \n",
       "VIXM           Derivatives  ProShares VIX Mid-Term Futures ETF      VIXM   \n",
       "BTC/USDT            Crypto                             Bitcoin  BTC/USDT   \n",
       "ETH/USDT            Crypto                            Etherium  ETH/USDT   \n",
       "BNB/USDT            Crypto                         BinanceCoin  BNB/USDT   \n",
       "\n",
       "         Marker Color  \n",
       "Ticker                 \n",
       "SPY           o     r  \n",
       "AAPL          o     b  \n",
       "TSLA          o     g  \n",
       "MMM           o     y  \n",
       "VIMAX         .     m  \n",
       "CROX          .     c  \n",
       "MMP           .     k  \n",
       "VSMAX         ,     k  \n",
       "EEM           1     r  \n",
       "GOVT          s     b  \n",
       "LQD           s     g  \n",
       "VTEAX         s     r  \n",
       "VIXM          *     m  \n",
       "BTC/USDT      D     c  \n",
       "ETH/USDT      D     m  \n",
       "BNB/USDT      D     y  "
      ]
     },
     "execution_count": 227,
     "metadata": {},
     "output_type": "execute_result"
    }
   ],
   "source": [
    "ticker_info"
   ]
  },
  {
   "cell_type": "code",
   "execution_count": 241,
   "metadata": {},
   "outputs": [
    {
     "data": {
      "image/png": "[encoded data removed]",
      "text/plain": [
       "<Figure size 432x288 with 1 Axes>"
      ]
     },
     "metadata": {
      "needs_background": "light"
     },
     "output_type": "display_data"
    }
   ],
   "source": [
    "fig, ax = plt.subplots()\n",
    "ax.set_xlabel('Excess Entropy')\n",
    "ax.set_ylabel('Complexity')\n",
    "plt.title('Entropy-Complexity Causality Plane')\n",
    "\n",
    "# we'll loop over the results so we can specify markers for each financial sector\n",
    "for t in results.index:\n",
    "    plt.scatter(x=results.loc[t, 'Excess Entropy'],\n",
    "                y=results.loc[t, 'Complexity'],\n",
    "                marker=ticker_info.loc[t, 'Marker'],\n",
    "                color=ticker_info.loc[t, 'Color'],\n",
    "                label=t)\n",
    "    \n",
    "# set some axis limits to size the plot appropriately\n",
    "plt.xlim(0.989,1)\n",
    "plt.ylim(0,0.005)\n",
    "\n",
    "plt.legend(bbox_to_anchor=(1.05, 1), loc='upper left')\n",
    "plt.show()"
   ]
  },
  {
   "cell_type": "markdown",
   "metadata": {},
   "source": [
    "We can see our results very roughly match those of Rosso et al! Most markets are near informational equilibrium, where there is no signal in the returns series exploitable by traders, with high excess entropy and relatively low complexity. One ticker - VTEAX, Vanguard's tax exempt bonds ETF - displays the entropic signature of a higher degree of internal structure.\n",
    "\n",
    "[what's the explanation for this? other metrics that are weird? std.dev was weirdly low. what gives?]\n",
    "\n",
    "Let's exclude the outlier and zoom in on the bottom right corner:"
   ]
  },
  {
   "cell_type": "code",
   "execution_count": 249,
   "metadata": {},
   "outputs": [
    {
     "data": {
      "text/html": [
       "<div>\n",
       "<style scoped>\n",
       "    .dataframe tbody tr th:only-of-type {\n",
       "        vertical-align: middle;\n",
       "    }\n",
       "\n",
       "    .dataframe tbody tr th {\n",
       "        vertical-align: top;\n",
       "    }\n",
       "\n",
       "    .dataframe thead th {\n",
       "        text-align: right;\n",
       "    }\n",
       "</style>\n",
       "<table border=\"1\" class=\"dataframe\">\n",
       "  <thead>\n",
       "    <tr style=\"text-align: right;\">\n",
       "      <th></th>\n",
       "      <th>Excess Entropy</th>\n",
       "      <th>Complexity</th>\n",
       "    </tr>\n",
       "  </thead>\n",
       "  <tbody>\n",
       "    <tr>\n",
       "      <th>AAPL</th>\n",
       "      <td>0.999539</td>\n",
       "      <td>0.000150</td>\n",
       "    </tr>\n",
       "    <tr>\n",
       "      <th>CROX</th>\n",
       "      <td>0.998380</td>\n",
       "      <td>0.000525</td>\n",
       "    </tr>\n",
       "    <tr>\n",
       "      <th>EEM</th>\n",
       "      <td>0.998474</td>\n",
       "      <td>0.000493</td>\n",
       "    </tr>\n",
       "    <tr>\n",
       "      <th>GOVT</th>\n",
       "      <td>0.998944</td>\n",
       "      <td>0.000341</td>\n",
       "    </tr>\n",
       "    <tr>\n",
       "      <th>LQD</th>\n",
       "      <td>0.999596</td>\n",
       "      <td>0.000131</td>\n",
       "    </tr>\n",
       "    <tr>\n",
       "      <th>MMM</th>\n",
       "      <td>0.998406</td>\n",
       "      <td>0.000515</td>\n",
       "    </tr>\n",
       "    <tr>\n",
       "      <th>MMP</th>\n",
       "      <td>0.998009</td>\n",
       "      <td>0.000644</td>\n",
       "    </tr>\n",
       "    <tr>\n",
       "      <th>SPY</th>\n",
       "      <td>0.998353</td>\n",
       "      <td>0.000541</td>\n",
       "    </tr>\n",
       "    <tr>\n",
       "      <th>TSLA</th>\n",
       "      <td>0.999763</td>\n",
       "      <td>0.000076</td>\n",
       "    </tr>\n",
       "    <tr>\n",
       "      <th>VIMAX</th>\n",
       "      <td>0.997447</td>\n",
       "      <td>0.000843</td>\n",
       "    </tr>\n",
       "    <tr>\n",
       "      <th>VIXM</th>\n",
       "      <td>0.998736</td>\n",
       "      <td>0.000408</td>\n",
       "    </tr>\n",
       "    <tr>\n",
       "      <th>VSMAX</th>\n",
       "      <td>0.998454</td>\n",
       "      <td>0.000505</td>\n",
       "    </tr>\n",
       "    <tr>\n",
       "      <th>VTEAX</th>\n",
       "      <td>0.989689</td>\n",
       "      <td>0.003258</td>\n",
       "    </tr>\n",
       "    <tr>\n",
       "      <th>BTC/USDT</th>\n",
       "      <td>0.998866</td>\n",
       "      <td>0.000365</td>\n",
       "    </tr>\n",
       "    <tr>\n",
       "      <th>ETH/USDT</th>\n",
       "      <td>0.999002</td>\n",
       "      <td>0.000324</td>\n",
       "    </tr>\n",
       "    <tr>\n",
       "      <th>BNB/USDT</th>\n",
       "      <td>0.999363</td>\n",
       "      <td>0.000205</td>\n",
       "    </tr>\n",
       "  </tbody>\n",
       "</table>\n",
       "</div>"
      ],
      "text/plain": [
       "          Excess Entropy  Complexity\n",
       "AAPL            0.999539    0.000150\n",
       "CROX            0.998380    0.000525\n",
       "EEM             0.998474    0.000493\n",
       "GOVT            0.998944    0.000341\n",
       "LQD             0.999596    0.000131\n",
       "MMM             0.998406    0.000515\n",
       "MMP             0.998009    0.000644\n",
       "SPY             0.998353    0.000541\n",
       "TSLA            0.999763    0.000076\n",
       "VIMAX           0.997447    0.000843\n",
       "VIXM            0.998736    0.000408\n",
       "VSMAX           0.998454    0.000505\n",
       "VTEAX           0.989689    0.003258\n",
       "BTC/USDT        0.998866    0.000365\n",
       "ETH/USDT        0.999002    0.000324\n",
       "BNB/USDT        0.999363    0.000205"
      ]
     },
     "execution_count": 249,
     "metadata": {},
     "output_type": "execute_result"
    }
   ],
   "source": [
    "results#.drop('VTEAX')"
   ]
  },
  {
   "cell_type": "code",
   "execution_count": 260,
   "metadata": {},
   "outputs": [
    {
     "data": {
      "image/png": "[encoded data removed]",
      "text/plain": [
       "<Figure size 432x288 with 1 Axes>"
      ]
     },
     "metadata": {
      "needs_background": "light"
     },
     "output_type": "display_data"
    }
   ],
   "source": [
    "fig, ax = plt.subplots()\n",
    "ax.set_xlabel('Excess Entropy')\n",
    "ax.set_ylabel('Complexity')\n",
    "plt.title('Entropy-Complexity Causality Plane')\n",
    "\n",
    "# we'll loop over the results so we can specify markers for each financial sector\n",
    "for t in results.index:\n",
    "    if t != 'VTEAX':\n",
    "        plt.scatter(x=results.loc[t, 'Excess Entropy'],\n",
    "                        y=results.loc[t, 'Complexity'],\n",
    "                        marker=ticker_info.loc[t, 'Marker'],\n",
    "                        color=ticker_info.loc[t, 'Color'],\n",
    "                        label=t)\n",
    "    \n",
    "# set some axis limits to size the plot appropriately, eyeballed & hardcoded\n",
    "plt.xlim(0.9969,1)\n",
    "plt.ylim(0,0.001)\n",
    "\n",
    "plt.legend(bbox_to_anchor=(1.05, 1), loc='upper left')\n",
    "plt.show()"
   ]
  },
  {
   "cell_type": "markdown",
   "metadata": {},
   "source": [
    "this doesnt match my hypothesis\n",
    "why is tesla, in a wild bubble, nearest to noise? spy not near noise? idk, can we impute sense to this? it's def not market cap=liquidity, lqd is small. maybe, like, velocity of money? presence of retail traders? or maybe the representation plane is bullshit lol\n",
    "\n",
    "let's try again with window=5"
   ]
  },
  {
   "cell_type": "code",
   "execution_count": 281,
   "metadata": {},
   "outputs": [
    {
     "data": {
      "text/html": [
       "<div>\n",
       "<style scoped>\n",
       "    .dataframe tbody tr th:only-of-type {\n",
       "        vertical-align: middle;\n",
       "    }\n",
       "\n",
       "    .dataframe tbody tr th {\n",
       "        vertical-align: top;\n",
       "    }\n",
       "\n",
       "    .dataframe thead th {\n",
       "        text-align: right;\n",
       "    }\n",
       "</style>\n",
       "<table border=\"1\" class=\"dataframe\">\n",
       "  <thead>\n",
       "    <tr style=\"text-align: right;\">\n",
       "      <th></th>\n",
       "      <th>Excess Entropy</th>\n",
       "      <th>Complexity</th>\n",
       "    </tr>\n",
       "  </thead>\n",
       "  <tbody>\n",
       "    <tr>\n",
       "      <th>AAPL</th>\n",
       "      <td>0.991405</td>\n",
       "      <td>0.007535</td>\n",
       "    </tr>\n",
       "    <tr>\n",
       "      <th>CROX</th>\n",
       "      <td>0.988621</td>\n",
       "      <td>0.010030</td>\n",
       "    </tr>\n",
       "    <tr>\n",
       "      <th>EEM</th>\n",
       "      <td>0.991305</td>\n",
       "      <td>0.007516</td>\n",
       "    </tr>\n",
       "    <tr>\n",
       "      <th>GOVT</th>\n",
       "      <td>0.990267</td>\n",
       "      <td>0.008334</td>\n",
       "    </tr>\n",
       "    <tr>\n",
       "      <th>LQD</th>\n",
       "      <td>0.988686</td>\n",
       "      <td>0.009929</td>\n",
       "    </tr>\n",
       "    <tr>\n",
       "      <th>MMM</th>\n",
       "      <td>0.989939</td>\n",
       "      <td>0.008749</td>\n",
       "    </tr>\n",
       "    <tr>\n",
       "      <th>MMP</th>\n",
       "      <td>0.987244</td>\n",
       "      <td>0.011210</td>\n",
       "    </tr>\n",
       "    <tr>\n",
       "      <th>SPY</th>\n",
       "      <td>0.988365</td>\n",
       "      <td>0.010290</td>\n",
       "    </tr>\n",
       "    <tr>\n",
       "      <th>TSLA</th>\n",
       "      <td>0.991214</td>\n",
       "      <td>0.007650</td>\n",
       "    </tr>\n",
       "    <tr>\n",
       "      <th>VIMAX</th>\n",
       "      <td>0.989266</td>\n",
       "      <td>0.009369</td>\n",
       "    </tr>\n",
       "    <tr>\n",
       "      <th>VIXM</th>\n",
       "      <td>0.989344</td>\n",
       "      <td>0.009185</td>\n",
       "    </tr>\n",
       "    <tr>\n",
       "      <th>VSMAX</th>\n",
       "      <td>0.988274</td>\n",
       "      <td>0.010171</td>\n",
       "    </tr>\n",
       "    <tr>\n",
       "      <th>VTEAX</th>\n",
       "      <td>0.966119</td>\n",
       "      <td>0.027586</td>\n",
       "    </tr>\n",
       "    <tr>\n",
       "      <th>BTC/USDT</th>\n",
       "      <td>0.986665</td>\n",
       "      <td>0.011773</td>\n",
       "    </tr>\n",
       "    <tr>\n",
       "      <th>ETH/USDT</th>\n",
       "      <td>0.987775</td>\n",
       "      <td>0.010402</td>\n",
       "    </tr>\n",
       "    <tr>\n",
       "      <th>BNB/USDT</th>\n",
       "      <td>0.987968</td>\n",
       "      <td>0.010415</td>\n",
       "    </tr>\n",
       "  </tbody>\n",
       "</table>\n",
       "</div>"
      ],
      "text/plain": [
       "          Excess Entropy  Complexity\n",
       "AAPL            0.991405    0.007535\n",
       "CROX            0.988621    0.010030\n",
       "EEM             0.991305    0.007516\n",
       "GOVT            0.990267    0.008334\n",
       "LQD             0.988686    0.009929\n",
       "MMM             0.989939    0.008749\n",
       "MMP             0.987244    0.011210\n",
       "SPY             0.988365    0.010290\n",
       "TSLA            0.991214    0.007650\n",
       "VIMAX           0.989266    0.009369\n",
       "VIXM            0.989344    0.009185\n",
       "VSMAX           0.988274    0.010171\n",
       "VTEAX           0.966119    0.027586\n",
       "BTC/USDT        0.986665    0.011773\n",
       "ETH/USDT        0.987775    0.010402\n",
       "BNB/USDT        0.987968    0.010415"
      ]
     },
     "execution_count": 281,
     "metadata": {},
     "output_type": "execute_result"
    }
   ],
   "source": [
    "equity_results5 = entropy_complexity(log_returns,window=5)\n",
    "crypto_results5 = entropy_complexity(crypto_log_returns,window=5)\n",
    "\n",
    "results5 = equity_results5.append(crypto_results5)\n",
    "\n",
    "results5"
   ]
  },
  {
   "cell_type": "code",
   "execution_count": 344,
   "metadata": {},
   "outputs": [
    {
     "data": {
      "image/png": "[encoded data removed]",
      "text/plain": [
       "<Figure size 432x288 with 1 Axes>"
      ]
     },
     "metadata": {
      "needs_background": "light"
     },
     "output_type": "display_data"
    }
   ],
   "source": [
    "fig, ax = plt.subplots()\n",
    "ax.set_xlabel('Excess Entropy')\n",
    "ax.set_ylabel('Complexity')\n",
    "plt.title('Entropy-Complexity Causality Plane')\n",
    "\n",
    "# we'll loop over the results so we can specify markers for each financial sector\n",
    "for t in results5.index:\n",
    "    if t != 'VTEAX':\n",
    "        plt.scatter(x=results5.loc[t, 'Excess Entropy'],\n",
    "                        y=results5.loc[t, 'Complexity'],\n",
    "                        marker=ticker_info.loc[t, 'Marker'],\n",
    "                        color=ticker_info.loc[t, 'Color'],\n",
    "                        label=t)\n",
    "    \n",
    "# set some axis limits to size the plot appropriately, eyeballed & hardcoded\n",
    "plt.xlim(0.98,1)\n",
    "plt.ylim(0,0.015)\n",
    "\n",
    "plt.legend(bbox_to_anchor=(1.05, 1), loc='upper left')\n",
    "plt.show()"
   ]
  },
  {
   "cell_type": "markdown",
   "metadata": {},
   "source": [
    "idk nothings different. dress the speculation up fancy and shrug my sholders.\n",
    "\n",
    "write a simple little macd backtest and be like \"look the trading results don't match the representation, null hypothesis wins nothing here. speculation on why this is a bad idea (non-orthogonal basis, data occupies a highly restricted subplane, quantitative info less important than structural, etcidk \""
   ]
  },
  {
   "cell_type": "code",
   "execution_count": 325,
   "metadata": {},
   "outputs": [],
   "source": [
    "ma12 = prices['Close'].rolling(12).mean()\n",
    "ma26 = prices['Close'].rolling(26).mean()\n",
    "\n",
    "# let's \"run the strategy\" by checking where the 12-day moving average is above the 2-day moving average (ie, price is increasing/accelerating)\n",
    "# and compute our returns by summing the log prices here \n",
    "\n",
    "# we're holding the security whenever ma12 > ma26\n",
    "long = ma12 > ma26\n",
    "# the macd indicator, positive when ma12 > ma26 & negative when ma12 < ma26\n",
    "macd = ma12 - ma26"
   ]
  },
  {
   "cell_type": "code",
   "execution_count": 351,
   "metadata": {},
   "outputs": [
    {
     "data": {
      "image/png": "[encoded data removed]",
      "text/plain": [
       "<Figure size 1152x648 with 2 Axes>"
      ]
     },
     "metadata": {
      "needs_background": "light"
     },
     "output_type": "display_data"
    }
   ],
   "source": [
    "fig, (ax, ax2) = plt.subplots(2, 1, sharex=True, figsize=(16,9), gridspec_kw={'height_ratios': [3, 0.6]})\n",
    "\n",
    "ax.plot(ma12.loc[pd.to_datetime('2020-01-01'):,'TSLA'], color='g', label='12-Day Moving Average')\n",
    "ax.plot(ma26.loc[pd.to_datetime('2020-01-01'):,'TSLA'],color='b', label='26-Day Moving Average')\n",
    "ax.plot(macd.loc[pd.to_datetime('2020-01-01'):,'TSLA'],color='y', label='MACD Indicator')\n",
    "ax.plot(pd.Series(0,index=macd.loc[pd.to_datetime('2020-01-01'):,'TSLA'].index), color='k')\n",
    "\n",
    "\n",
    "ax2.plot(long.loc[pd.to_datetime('2020-01-01'):,'TSLA'],color='r', label='LONG')\n",
    "\n",
    "ax.legend()\n",
    "ax2.legend()\n",
    "plt.title('TESLA MACD')\n",
    "plt.show()"
   ]
  },
  {
   "cell_type": "markdown",
   "metadata": {},
   "source": [
    "To get our cumulative (log) returns, we just sum the log returns for the periods where we're long a security:"
   ]
  },
  {
   "cell_type": "code",
   "execution_count": 402,
   "metadata": {},
   "outputs": [
    {
     "data": {
      "text/plain": [
       "AAPL     1.484082\n",
       "CROX     2.761662\n",
       "EEM      0.542782\n",
       "GOVT     0.063479\n",
       "LQD      0.034563\n",
       "MMM     -0.262080\n",
       "MMP      0.200480\n",
       "SPY      0.502456\n",
       "TSLA     2.828819\n",
       "VIMAX    0.515657\n",
       "VIXM     0.310758\n",
       "VSMAX    0.427289\n",
       "VTEAX    0.056765\n",
       "dtype: float64"
      ]
     },
     "execution_count": 402,
     "metadata": {},
     "output_type": "execute_result"
    }
   ],
   "source": [
    "cumulative_returns = log_returns[long].sum()\n",
    "\n",
    "cumulative_returns"
   ]
  },
  {
   "cell_type": "markdown",
   "metadata": {},
   "source": [
    "Let's plot the values our portfolio would have over time if we gave each MACD bot $1000 to trade with:"
   ]
  },
  {
   "cell_type": "code",
   "execution_count": 425,
   "metadata": {},
   "outputs": [],
   "source": [
    "portfolio_value = (log_returns[long]).cumsum().fillna(method='ffill').fillna(0)\n",
    "\n",
    "portfolio_dollars = (portfolio_value + 1) * 1000"
   ]
  },
  {
   "cell_type": "code",
   "execution_count": 433,
   "metadata": {},
   "outputs": [
    {
     "data": {
      "image/png": "[encoded data removed]",
      "text/plain": [
       "<Figure size 1152x648 with 1 Axes>"
      ]
     },
     "metadata": {
      "needs_background": "light"
     },
     "output_type": "display_data"
    }
   ],
   "source": [
    "fig, ax = plt.subplots(figsize=(16,9))\n",
    "plt.title('Portfolio Value')\n",
    "\n",
    "# we'll loop over the results so we can specify markers for each financial sector\n",
    "plt.plot(portfolio_dollars, label=portfolio_dollars.columns)\n",
    "\n",
    "plt.legend(portfolio_dollars.columns, bbox_to_anchor=(1.05, 1), loc='upper left')\n",
    "plt.show()"
   ]
  },
  {
   "cell_type": "code",
   "execution_count": 421,
   "metadata": {},
   "outputs": [
    {
     "data": {
      "text/plain": [
       "AAPL     1.844678\n",
       "CROX     1.920118\n",
       "EEM      1.098503\n",
       "GOVT     0.583162\n",
       "LQD      0.228623\n",
       "MMM     -0.320035\n",
       "MMP      0.514308\n",
       "SPY      1.208643\n",
       "TSLA     2.007834\n",
       "VIMAX    1.145531\n",
       "VIXM     0.594644\n",
       "VSMAX    0.872689\n",
       "VTEAX    0.804354\n",
       "dtype: float64"
      ]
     },
     "execution_count": 421,
     "metadata": {},
     "output_type": "execute_result"
    }
   ],
   "source": [
    "daily_sharpe = returns[long].mean() / returns[long].std()\n",
    "annual_sharpe = daily_sharpe * np.sqrt(252)\n",
    "\n",
    "annual_sharpe"
   ]
  },
  {
   "cell_type": "markdown",
   "metadata": {},
   "source": [
    "Let's compare our risk-adjusted returns to our excess entropy x complexity representation to see if either dimension correlates with our MACD Sharpe ratios."
   ]
  },
  {
   "cell_type": "code",
   "execution_count": 450,
   "metadata": {},
   "outputs": [
    {
     "data": {
      "text/html": [
       "<div>\n",
       "<style scoped>\n",
       "    .dataframe tbody tr th:only-of-type {\n",
       "        vertical-align: middle;\n",
       "    }\n",
       "\n",
       "    .dataframe tbody tr th {\n",
       "        vertical-align: top;\n",
       "    }\n",
       "\n",
       "    .dataframe thead th {\n",
       "        text-align: right;\n",
       "    }\n",
       "</style>\n",
       "<table border=\"1\" class=\"dataframe\">\n",
       "  <thead>\n",
       "    <tr style=\"text-align: right;\">\n",
       "      <th></th>\n",
       "      <th>Excess Entropy</th>\n",
       "      <th>Complexity</th>\n",
       "      <th>Annual Sharpe</th>\n",
       "    </tr>\n",
       "  </thead>\n",
       "  <tbody>\n",
       "    <tr>\n",
       "      <th>TSLA</th>\n",
       "      <td>0.999763</td>\n",
       "      <td>0.000076</td>\n",
       "      <td>2.007834</td>\n",
       "    </tr>\n",
       "    <tr>\n",
       "      <th>CROX</th>\n",
       "      <td>0.998380</td>\n",
       "      <td>0.000525</td>\n",
       "      <td>1.920118</td>\n",
       "    </tr>\n",
       "    <tr>\n",
       "      <th>AAPL</th>\n",
       "      <td>0.999539</td>\n",
       "      <td>0.000150</td>\n",
       "      <td>1.844678</td>\n",
       "    </tr>\n",
       "    <tr>\n",
       "      <th>SPY</th>\n",
       "      <td>0.998353</td>\n",
       "      <td>0.000541</td>\n",
       "      <td>1.208643</td>\n",
       "    </tr>\n",
       "    <tr>\n",
       "      <th>VIMAX</th>\n",
       "      <td>0.997447</td>\n",
       "      <td>0.000843</td>\n",
       "      <td>1.145531</td>\n",
       "    </tr>\n",
       "    <tr>\n",
       "      <th>EEM</th>\n",
       "      <td>0.998474</td>\n",
       "      <td>0.000493</td>\n",
       "      <td>1.098503</td>\n",
       "    </tr>\n",
       "    <tr>\n",
       "      <th>VSMAX</th>\n",
       "      <td>0.998454</td>\n",
       "      <td>0.000505</td>\n",
       "      <td>0.872689</td>\n",
       "    </tr>\n",
       "    <tr>\n",
       "      <th>VTEAX</th>\n",
       "      <td>0.989689</td>\n",
       "      <td>0.003258</td>\n",
       "      <td>0.804354</td>\n",
       "    </tr>\n",
       "    <tr>\n",
       "      <th>VIXM</th>\n",
       "      <td>0.998736</td>\n",
       "      <td>0.000408</td>\n",
       "      <td>0.594644</td>\n",
       "    </tr>\n",
       "    <tr>\n",
       "      <th>GOVT</th>\n",
       "      <td>0.998944</td>\n",
       "      <td>0.000341</td>\n",
       "      <td>0.583162</td>\n",
       "    </tr>\n",
       "    <tr>\n",
       "      <th>MMP</th>\n",
       "      <td>0.998009</td>\n",
       "      <td>0.000644</td>\n",
       "      <td>0.514308</td>\n",
       "    </tr>\n",
       "    <tr>\n",
       "      <th>LQD</th>\n",
       "      <td>0.999596</td>\n",
       "      <td>0.000131</td>\n",
       "      <td>0.228623</td>\n",
       "    </tr>\n",
       "    <tr>\n",
       "      <th>MMM</th>\n",
       "      <td>0.998406</td>\n",
       "      <td>0.000515</td>\n",
       "      <td>-0.320035</td>\n",
       "    </tr>\n",
       "  </tbody>\n",
       "</table>\n",
       "</div>"
      ],
      "text/plain": [
       "       Excess Entropy  Complexity  Annual Sharpe\n",
       "TSLA         0.999763    0.000076       2.007834\n",
       "CROX         0.998380    0.000525       1.920118\n",
       "AAPL         0.999539    0.000150       1.844678\n",
       "SPY          0.998353    0.000541       1.208643\n",
       "VIMAX        0.997447    0.000843       1.145531\n",
       "EEM          0.998474    0.000493       1.098503\n",
       "VSMAX        0.998454    0.000505       0.872689\n",
       "VTEAX        0.989689    0.003258       0.804354\n",
       "VIXM         0.998736    0.000408       0.594644\n",
       "GOVT         0.998944    0.000341       0.583162\n",
       "MMP          0.998009    0.000644       0.514308\n",
       "LQD          0.999596    0.000131       0.228623\n",
       "MMM          0.998406    0.000515      -0.320035"
      ]
     },
     "execution_count": 450,
     "metadata": {},
     "output_type": "execute_result"
    }
   ],
   "source": [
    "trading_results = pd.concat((equity_results, annual_sharpe.rename('Annual Sharpe')), axis=1)\n",
    "\n",
    "trading_results.sort_values(by='Annual Sharpe', ascending=False)"
   ]
  },
  {
   "cell_type": "markdown",
   "metadata": {},
   "source": [
    "And there is basically no correlation between either excess entropy or complexity and our MACD annual Sharpe ratio. The correlation is basically the same for both, though flipped sign, because the empirical values fall on a straight line with slope of roughly -1 due to the non-orthogonality of the basis."
   ]
  },
  {
   "cell_type": "code",
   "execution_count": 451,
   "metadata": {},
   "outputs": [
    {
     "data": {
      "text/plain": [
       "0.12134271039614263"
      ]
     },
     "execution_count": 451,
     "metadata": {},
     "output_type": "execute_result"
    }
   ],
   "source": [
    "trading_results['Excess Entropy'].corr(trading_results['Annual Sharpe'])"
   ]
  },
  {
   "cell_type": "code",
   "execution_count": 452,
   "metadata": {},
   "outputs": [
    {
     "data": {
      "text/plain": [
       "-0.12141967959415349"
      ]
     },
     "execution_count": 452,
     "metadata": {},
     "output_type": "execute_result"
    }
   ],
   "source": [
    "trading_results['Complexity'].corr(trading_results['Annual Sharpe'])"
   ]
  },
  {
   "cell_type": "markdown",
   "metadata": {},
   "source": [
    "This is sort of the final defeat of our hypothesis, at least for me. The securities that are less random didn't match our expecttions, and didn't perform better in a simple trading test. This exhausts the financial value of this for me, but hopefully there was some pedagogical value in the programming exercise."
   ]
  },
  {
   "cell_type": "markdown",
   "metadata": {},
   "source": [
    "My key philosophical concern with this representation is that the principle axes - Complexity and Excess Entropy - are clearly non-orthogonal. Indeed, their Complexity measure includes its abscissa as a component term: Complexity = Jensen-Shannon Divergence * Excess Entropy. As a result, the dynamics of this representation - the possible locations of a time series within this representational plane - are confined to a small subplane, the narrow curved band coverging into the bottom right corner we see in the image from Rosso et al above. \n",
    "\n",
    "Philosophically, I believe that an ontology or representational scheme is information-theoretically optimal when the dynamics of the system so conceptualized ergodically span the full range of the configuration space. This means our concepts encode the most possible information about the dynamics of our system, we've cleved nature at its joints, or something like it. That the time series dynamics playing out on the representational plane of Rosso et al are confined to a subspace means we've yet to fully disentangle the conceptual tangles of complexity, chaos, and information. "
   ]
  }
 ],
 "metadata": {
  "kernelspec": {
   "display_name": "Python 3",
   "language": "python",
   "name": "python3"
  },
  "language_info": {
   "codemirror_mode": {
    "name": "ipython",
    "version": 3
   },
   "file_extension": ".py",
   "mimetype": "text/x-python",
   "name": "python",
   "nbconvert_exporter": "python",
   "pygments_lexer": "ipython3",
   "version": "3.7.3"
  }
 },
 "nbformat": 4,
 "nbformat_minor": 2
}
